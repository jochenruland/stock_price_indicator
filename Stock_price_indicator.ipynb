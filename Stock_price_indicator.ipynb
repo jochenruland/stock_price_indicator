{
 "cells": [
  {
   "cell_type": "markdown",
   "metadata": {},
   "source": [
    "# Stock Price Indicator\n",
    "## I. ETL Pipeline Preparation\n",
    "### 1. Import libraries and load datasets.\n",
    "- Import Python libraries\n",
    "- Load data from Yahoo Finance (Accessing data from the Yahoo finance plattform via the corresponing API you are able to download data since 1950 (if the stock existed))"
   ]
  },
  {
   "cell_type": "code",
   "execution_count": 502,
   "metadata": {},
   "outputs": [],
   "source": [
    "# import libraries\n",
    "import pandas as pd\n",
    "import numpy as np\n",
    "import datetime as dt\n",
    "import matplotlib.pyplot as plt\n",
    "%matplotlib inline\n",
    "\n",
    "import yfinance as yf\n",
    "from alpha_vantage.timeseries import TimeSeries\n",
    "\n",
    "API_key = 'AG0F6BKQTUPYSY99' \n"
   ]
  },
  {
   "cell_type": "code",
   "execution_count": 529,
   "metadata": {},
   "outputs": [],
   "source": [
    "ts = TimeSeries(key = API_key, output_format = 'pandas')\n",
    "\n",
    "symbol = 'AAPL'\n",
    "data = ts.get_daily_adjusted(symbol)\n",
    "df = data[0]['5. adjusted close'].reset_index()\n",
    "df.to_csv('app/'+symbol+'.csv', index = False)"
   ]
  },
  {
   "cell_type": "code",
   "execution_count": 26,
   "metadata": {},
   "outputs": [],
   "source": [
    "# Import data from Yahoo finance\n",
    "\n",
    "def get_data(symbol='AAPL', start_date='2020-01-01', end_date='2020-12-31'):\n",
    "    '''\n",
    "    Setup of an empty dataframe with the given timeperiod as index to be used as instance for further gathered data.\n",
    "    Then downloads the data from Yahoo Finance for the selected symbol(s) and time period and selects the Adj Close column\n",
    "    INPUT: \n",
    "    symbols - list - symbols of listed stocks\n",
    "    start_date - datetime - Beginning of the period to analyze\n",
    "    end_date - datetime - End of the period to analyze\n",
    "    \n",
    "    OUTPUT\n",
    "    df - dataframe - Dataframe containing the Adj Close for each symbol with the time period as index (ordered ascending)\n",
    "    '''\n",
    "    dates= pd.date_range(start_date, end_date)\n",
    "    df = pd.DataFrame(index=dates)\n",
    "    \n",
    "    df_tmp = yf.download(symbol, start_date, end_date)\n",
    "    df_tmp = df_tmp[['Adj Close']]\n",
    "    df_tmp = df_tmp.rename(columns={\"Adj Close\": symbol})\n",
    "        \n",
    "    df = df.join(df_tmp)\n",
    "    df = df.dropna()\n",
    "    \n",
    "    return df"
   ]
  },
  {
   "cell_type": "code",
   "execution_count": 435,
   "metadata": {},
   "outputs": [
    {
     "name": "stdout",
     "output_type": "stream",
     "text": [
      "[*********************100%***********************]  1 of 1 completed\n"
     ]
    },
    {
     "data": {
      "text/html": [
       "<div>\n",
       "<style scoped>\n",
       "    .dataframe tbody tr th:only-of-type {\n",
       "        vertical-align: middle;\n",
       "    }\n",
       "\n",
       "    .dataframe tbody tr th {\n",
       "        vertical-align: top;\n",
       "    }\n",
       "\n",
       "    .dataframe thead th {\n",
       "        text-align: right;\n",
       "    }\n",
       "</style>\n",
       "<table border=\"1\" class=\"dataframe\">\n",
       "  <thead>\n",
       "    <tr style=\"text-align: right;\">\n",
       "      <th></th>\n",
       "      <th>BABA</th>\n",
       "    </tr>\n",
       "  </thead>\n",
       "  <tbody>\n",
       "    <tr>\n",
       "      <th>2020-01-27</th>\n",
       "      <td>205.470001</td>\n",
       "    </tr>\n",
       "    <tr>\n",
       "      <th>2020-01-28</th>\n",
       "      <td>210.229996</td>\n",
       "    </tr>\n",
       "    <tr>\n",
       "      <th>2020-01-29</th>\n",
       "      <td>212.020004</td>\n",
       "    </tr>\n",
       "    <tr>\n",
       "      <th>2020-01-30</th>\n",
       "      <td>208.580002</td>\n",
       "    </tr>\n",
       "    <tr>\n",
       "      <th>2020-01-31</th>\n",
       "      <td>206.589996</td>\n",
       "    </tr>\n",
       "  </tbody>\n",
       "</table>\n",
       "</div>"
      ],
      "text/plain": [
       "                  BABA\n",
       "2020-01-27  205.470001\n",
       "2020-01-28  210.229996\n",
       "2020-01-29  212.020004\n",
       "2020-01-30  208.580002\n",
       "2020-01-31  206.589996"
      ]
     },
     "execution_count": 435,
     "metadata": {},
     "output_type": "execute_result"
    }
   ],
   "source": [
    "data_analysis_df = get_data(symbol='BABA', start_date='2020-01-25', end_date='2021-05-25')\n",
    "data_analysis_df.head()"
   ]
  },
  {
   "cell_type": "markdown",
   "metadata": {},
   "source": [
    "### 2. Normalize data and plot to check for anomalies"
   ]
  },
  {
   "cell_type": "code",
   "execution_count": 436,
   "metadata": {},
   "outputs": [],
   "source": [
    "# Noramlize the stock price data\n",
    "\n",
    "def normalize_stock_data(df):\n",
    "    df = df/df.iloc[0,:]\n",
    "    return df"
   ]
  },
  {
   "cell_type": "code",
   "execution_count": 437,
   "metadata": {},
   "outputs": [],
   "source": [
    "data_analysis_norm = normalize_stock_data(data_analysis_df)"
   ]
  },
  {
   "cell_type": "code",
   "execution_count": 438,
   "metadata": {},
   "outputs": [],
   "source": [
    "# Plot stock price data and check for anomalies\n",
    "\n",
    "def plot_stock_data(df):\n",
    "    if isinstance(df, pd.Series):\n",
    "        plt.figure(figsize=(12,8))\n",
    "        ax1 = df.plot()\n",
    "        ax1.set_xlabel('time')\n",
    "        ax1.set_ylabel('price')\n",
    "        ax1.set_title('Stock price development')\n",
    "        plt.legend(loc='upper right')\n",
    "        plt.show()\n",
    "    else:\n",
    "        plt.figure(figsize=(12,18))\n",
    "        ax2 = plt.subplot(2,1,1)\n",
    "        ax2.set_xlabel('time')\n",
    "        ax2.set_ylabel('price')\n",
    "        ax2.set_title('Stock price development')\n",
    "        for col in df.columns:\n",
    "            df[col].plot()\n",
    "    \n",
    "        plt.legend(loc='upper right')"
   ]
  },
  {
   "cell_type": "code",
   "execution_count": 439,
   "metadata": {
    "scrolled": true
   },
   "outputs": [
    {
     "data": {
      "image/png": "[encoded data removed]",
      "text/plain": [
       "<Figure size 864x1296 with 1 Axes>"
      ]
     },
     "metadata": {
      "needs_background": "light"
     },
     "output_type": "display_data"
    }
   ],
   "source": [
    "plot_stock_data(data_analysis_df)"
   ]
  },
  {
   "cell_type": "code",
   "execution_count": 440,
   "metadata": {
    "scrolled": true
   },
   "outputs": [
    {
     "data": {
      "image/png": "[encoded data removed]",
      "text/plain": [
       "<Figure size 864x1296 with 1 Axes>"
      ]
     },
     "metadata": {
      "needs_background": "light"
     },
     "output_type": "display_data"
    }
   ],
   "source": [
    "plot_stock_data(data_analysis_norm)"
   ]
  },
  {
   "cell_type": "markdown",
   "metadata": {},
   "source": [
    "### 3. Feature engineering"
   ]
  },
  {
   "cell_type": "code",
   "execution_count": 441,
   "metadata": {},
   "outputs": [
    {
     "data": {
      "text/html": [
       "<div>\n",
       "<style scoped>\n",
       "    .dataframe tbody tr th:only-of-type {\n",
       "        vertical-align: middle;\n",
       "    }\n",
       "\n",
       "    .dataframe tbody tr th {\n",
       "        vertical-align: top;\n",
       "    }\n",
       "\n",
       "    .dataframe thead th {\n",
       "        text-align: right;\n",
       "    }\n",
       "</style>\n",
       "<table border=\"1\" class=\"dataframe\">\n",
       "  <thead>\n",
       "    <tr style=\"text-align: right;\">\n",
       "      <th></th>\n",
       "      <th>BABA</th>\n",
       "    </tr>\n",
       "  </thead>\n",
       "  <tbody>\n",
       "    <tr>\n",
       "      <th>2021-05-18</th>\n",
       "      <td>0.036260</td>\n",
       "    </tr>\n",
       "    <tr>\n",
       "      <th>2021-05-19</th>\n",
       "      <td>0.033684</td>\n",
       "    </tr>\n",
       "    <tr>\n",
       "      <th>2021-05-20</th>\n",
       "      <td>0.029241</td>\n",
       "    </tr>\n",
       "    <tr>\n",
       "      <th>2021-05-21</th>\n",
       "      <td>0.024653</td>\n",
       "    </tr>\n",
       "    <tr>\n",
       "      <th>2021-05-24</th>\n",
       "      <td>0.023395</td>\n",
       "    </tr>\n",
       "  </tbody>\n",
       "</table>\n",
       "</div>"
      ],
      "text/plain": [
       "                BABA\n",
       "2021-05-18  0.036260\n",
       "2021-05-19  0.033684\n",
       "2021-05-20  0.029241\n",
       "2021-05-21  0.024653\n",
       "2021-05-24  0.023395"
      ]
     },
     "execution_count": 441,
     "metadata": {},
     "output_type": "execute_result"
    }
   ],
   "source": [
    "# Simple moving average (SMA)\n",
    "\n",
    "win = 10\n",
    "sma = data_analysis_norm.rolling(window=win).mean()\n",
    "std_df = data_analysis_norm.rolling(window=win).std()\n",
    "sma.tail()\n",
    "std_df.tail()"
   ]
  },
  {
   "cell_type": "code",
   "execution_count": 442,
   "metadata": {},
   "outputs": [],
   "source": [
    "# Bollinger(R) Bands\n",
    "\n",
    "def get_bollinger_bands(rm=sma, rstd=std_df):\n",
    "    upper_band = rm + rstd*2\n",
    "    lower_band = rm - rstd*2\n",
    "    return upper_band, lower_band\n"
   ]
  },
  {
   "cell_type": "code",
   "execution_count": 443,
   "metadata": {
    "scrolled": true
   },
   "outputs": [
    {
     "data": {
      "text/html": [
       "<div>\n",
       "<style scoped>\n",
       "    .dataframe tbody tr th:only-of-type {\n",
       "        vertical-align: middle;\n",
       "    }\n",
       "\n",
       "    .dataframe tbody tr th {\n",
       "        vertical-align: top;\n",
       "    }\n",
       "\n",
       "    .dataframe thead th {\n",
       "        text-align: right;\n",
       "    }\n",
       "</style>\n",
       "<table border=\"1\" class=\"dataframe\">\n",
       "  <thead>\n",
       "    <tr style=\"text-align: right;\">\n",
       "      <th></th>\n",
       "      <th>BABA</th>\n",
       "    </tr>\n",
       "  </thead>\n",
       "  <tbody>\n",
       "    <tr>\n",
       "      <th>2021-05-18</th>\n",
       "      <td>1.133347</td>\n",
       "    </tr>\n",
       "    <tr>\n",
       "      <th>2021-05-19</th>\n",
       "      <td>1.121264</td>\n",
       "    </tr>\n",
       "    <tr>\n",
       "      <th>2021-05-20</th>\n",
       "      <td>1.107788</td>\n",
       "    </tr>\n",
       "    <tr>\n",
       "      <th>2021-05-21</th>\n",
       "      <td>1.091677</td>\n",
       "    </tr>\n",
       "    <tr>\n",
       "      <th>2021-05-24</th>\n",
       "      <td>1.084737</td>\n",
       "    </tr>\n",
       "  </tbody>\n",
       "</table>\n",
       "</div>"
      ],
      "text/plain": [
       "                BABA\n",
       "2021-05-18  1.133347\n",
       "2021-05-19  1.121264\n",
       "2021-05-20  1.107788\n",
       "2021-05-21  1.091677\n",
       "2021-05-24  1.084737"
      ]
     },
     "execution_count": 443,
     "metadata": {},
     "output_type": "execute_result"
    }
   ],
   "source": [
    "b_upper_band, b_lower_band = get_bollinger_bands()\n",
    "b_upper_band.tail()"
   ]
  },
  {
   "cell_type": "code",
   "execution_count": 444,
   "metadata": {},
   "outputs": [],
   "source": [
    "# Daily returns\n",
    "\n",
    "def get_daily_returns(df=data_analysis_df):\n",
    "    daily_returns = df.copy()\n",
    "    daily_returns[1:] = (df[1:]/df[:-1].values) - 1\n",
    "    daily_returns.iloc[0,:] = 0\n",
    "    return daily_returns"
   ]
  },
  {
   "cell_type": "code",
   "execution_count": 445,
   "metadata": {},
   "outputs": [
    {
     "data": {
      "text/html": [
       "<div>\n",
       "<style scoped>\n",
       "    .dataframe tbody tr th:only-of-type {\n",
       "        vertical-align: middle;\n",
       "    }\n",
       "\n",
       "    .dataframe tbody tr th {\n",
       "        vertical-align: top;\n",
       "    }\n",
       "\n",
       "    .dataframe thead th {\n",
       "        text-align: right;\n",
       "    }\n",
       "</style>\n",
       "<table border=\"1\" class=\"dataframe\">\n",
       "  <thead>\n",
       "    <tr style=\"text-align: right;\">\n",
       "      <th></th>\n",
       "      <th>BABA</th>\n",
       "    </tr>\n",
       "  </thead>\n",
       "  <tbody>\n",
       "    <tr>\n",
       "      <th>2020-01-27</th>\n",
       "      <td>0.000000</td>\n",
       "    </tr>\n",
       "    <tr>\n",
       "      <th>2020-01-28</th>\n",
       "      <td>0.023166</td>\n",
       "    </tr>\n",
       "    <tr>\n",
       "      <th>2020-01-29</th>\n",
       "      <td>0.008515</td>\n",
       "    </tr>\n",
       "    <tr>\n",
       "      <th>2020-01-30</th>\n",
       "      <td>-0.016225</td>\n",
       "    </tr>\n",
       "    <tr>\n",
       "      <th>2020-01-31</th>\n",
       "      <td>-0.009541</td>\n",
       "    </tr>\n",
       "  </tbody>\n",
       "</table>\n",
       "</div>"
      ],
      "text/plain": [
       "                BABA\n",
       "2020-01-27  0.000000\n",
       "2020-01-28  0.023166\n",
       "2020-01-29  0.008515\n",
       "2020-01-30 -0.016225\n",
       "2020-01-31 -0.009541"
      ]
     },
     "execution_count": 445,
     "metadata": {},
     "output_type": "execute_result"
    }
   ],
   "source": [
    "daily_returns = get_daily_returns()\n",
    "daily_returns.head()"
   ]
  },
  {
   "cell_type": "code",
   "execution_count": 446,
   "metadata": {
    "scrolled": true
   },
   "outputs": [
    {
     "data": {
      "image/png": "[encoded data removed]",
      "text/plain": [
       "<Figure size 432x288 with 1 Axes>"
      ]
     },
     "metadata": {
      "needs_background": "light"
     },
     "output_type": "display_data"
    }
   ],
   "source": [
    "daily_returns.hist(bins= 20)\n",
    "plt.show()"
   ]
  },
  {
   "cell_type": "code",
   "execution_count": 447,
   "metadata": {},
   "outputs": [],
   "source": [
    "# Cumulative returns\n",
    "\n",
    "def get_cumulative_returns(df=data_analysis_df):\n",
    "    cumulative_returns = df.copy\n",
    "    cumulative_returns= (df/df.iloc[0]) - 1\n",
    "    return cumulative_returns"
   ]
  },
  {
   "cell_type": "code",
   "execution_count": 448,
   "metadata": {},
   "outputs": [
    {
     "data": {
      "text/html": [
       "<div>\n",
       "<style scoped>\n",
       "    .dataframe tbody tr th:only-of-type {\n",
       "        vertical-align: middle;\n",
       "    }\n",
       "\n",
       "    .dataframe tbody tr th {\n",
       "        vertical-align: top;\n",
       "    }\n",
       "\n",
       "    .dataframe thead th {\n",
       "        text-align: right;\n",
       "    }\n",
       "</style>\n",
       "<table border=\"1\" class=\"dataframe\">\n",
       "  <thead>\n",
       "    <tr style=\"text-align: right;\">\n",
       "      <th></th>\n",
       "      <th>BABA</th>\n",
       "    </tr>\n",
       "  </thead>\n",
       "  <tbody>\n",
       "    <tr>\n",
       "      <th>2020-01-27</th>\n",
       "      <td>0.000000</td>\n",
       "    </tr>\n",
       "    <tr>\n",
       "      <th>2020-01-28</th>\n",
       "      <td>0.023166</td>\n",
       "    </tr>\n",
       "    <tr>\n",
       "      <th>2020-01-29</th>\n",
       "      <td>0.031878</td>\n",
       "    </tr>\n",
       "    <tr>\n",
       "      <th>2020-01-30</th>\n",
       "      <td>0.015136</td>\n",
       "    </tr>\n",
       "    <tr>\n",
       "      <th>2020-01-31</th>\n",
       "      <td>0.005451</td>\n",
       "    </tr>\n",
       "  </tbody>\n",
       "</table>\n",
       "</div>"
      ],
      "text/plain": [
       "                BABA\n",
       "2020-01-27  0.000000\n",
       "2020-01-28  0.023166\n",
       "2020-01-29  0.031878\n",
       "2020-01-30  0.015136\n",
       "2020-01-31  0.005451"
      ]
     },
     "execution_count": 448,
     "metadata": {},
     "output_type": "execute_result"
    }
   ],
   "source": [
    "cumulative_returns = get_cumulative_returns()\n",
    "cumulative_returns.head()"
   ]
  },
  {
   "cell_type": "code",
   "execution_count": 449,
   "metadata": {},
   "outputs": [],
   "source": [
    "# Momentum\n",
    "\n",
    "def get_momentum(df=data_analysis_df, win=5):\n",
    "    df_momentum = df.copy()\n",
    "    df_momentum[win:] = (df[win:]/df[:-(win)].values) - 1\n",
    "    df_momentum.iloc[0:(win),:] = 0\n",
    "    return df_momentum"
   ]
  },
  {
   "cell_type": "code",
   "execution_count": 450,
   "metadata": {
    "scrolled": true
   },
   "outputs": [
    {
     "data": {
      "text/html": [
       "<div>\n",
       "<style scoped>\n",
       "    .dataframe tbody tr th:only-of-type {\n",
       "        vertical-align: middle;\n",
       "    }\n",
       "\n",
       "    .dataframe tbody tr th {\n",
       "        vertical-align: top;\n",
       "    }\n",
       "\n",
       "    .dataframe thead th {\n",
       "        text-align: right;\n",
       "    }\n",
       "</style>\n",
       "<table border=\"1\" class=\"dataframe\">\n",
       "  <thead>\n",
       "    <tr style=\"text-align: right;\">\n",
       "      <th></th>\n",
       "      <th>BABA</th>\n",
       "    </tr>\n",
       "  </thead>\n",
       "  <tbody>\n",
       "    <tr>\n",
       "      <th>2021-05-18</th>\n",
       "      <td>-0.034601</td>\n",
       "    </tr>\n",
       "    <tr>\n",
       "      <th>2021-05-19</th>\n",
       "      <td>-0.033470</td>\n",
       "    </tr>\n",
       "    <tr>\n",
       "      <th>2021-05-20</th>\n",
       "      <td>0.052941</td>\n",
       "    </tr>\n",
       "    <tr>\n",
       "      <th>2021-05-21</th>\n",
       "      <td>0.007398</td>\n",
       "    </tr>\n",
       "    <tr>\n",
       "      <th>2021-05-24</th>\n",
       "      <td>-0.002890</td>\n",
       "    </tr>\n",
       "  </tbody>\n",
       "</table>\n",
       "</div>"
      ],
      "text/plain": [
       "                BABA\n",
       "2021-05-18 -0.034601\n",
       "2021-05-19 -0.033470\n",
       "2021-05-20  0.052941\n",
       "2021-05-21  0.007398\n",
       "2021-05-24 -0.002890"
      ]
     },
     "execution_count": 450,
     "metadata": {},
     "output_type": "execute_result"
    }
   ],
   "source": [
    "momentum = get_momentum()\n",
    "momentum.tail()"
   ]
  },
  {
   "cell_type": "code",
   "execution_count": 451,
   "metadata": {},
   "outputs": [
    {
     "name": "stdout",
     "output_type": "stream",
     "text": [
      "[*********************100%***********************]  1 of 1 completed\n"
     ]
    },
    {
     "data": {
      "text/plain": [
       "(                   SPY\n",
       " 2020-01-27  316.532745\n",
       " 2020-01-28  319.849731\n",
       " 2020-01-29  319.585510\n",
       " 2020-01-30  320.622711\n",
       " 2020-01-31  314.800873,\n",
       "                    SPY\n",
       " 2021-05-18  411.940002\n",
       " 2021-05-19  410.859985\n",
       " 2021-05-20  415.279999\n",
       " 2021-05-21  414.940002\n",
       " 2021-05-24  419.170013)"
      ]
     },
     "execution_count": 451,
     "metadata": {},
     "output_type": "execute_result"
    }
   ],
   "source": [
    "# Get market index\n",
    "\n",
    "market_index = get_data(symbol='SPY', start_date='2020-01-25', end_date='2021-05-25')\n",
    "market_index.head(), market_index.tail()\n"
   ]
  },
  {
   "cell_type": "markdown",
   "metadata": {},
   "source": [
    "### 4. Merge all indicators and symbols into one dataframe"
   ]
  },
  {
   "cell_type": "code",
   "execution_count": 452,
   "metadata": {},
   "outputs": [],
   "source": [
    "def create_indicator_dataframe(df):\n",
    "    ''' Function which which takes the Adj Close and corresponding dates per symbol, adds a new column containing the symbol \n",
    "        and joins all indicators to one dataframe \n",
    "        INPUT: \n",
    "        df - dataframe - contains the orginal data to analyse \n",
    "        OUTPUT:\n",
    "        indicator_df - dataframe - contains the Adj Close and all indicators as features tagged by the symbol '''\n",
    "    indicator_df = pd.DataFrame(columns=['Date','Symbol', 'Adj Close','Daily Returns','Cumulative Returns','SMA', 'Momentum', 'Upper Band','Lower Band','Market Index'])\n",
    "    \n",
    "    for symbol in df.columns:\n",
    "        df_temp = df[symbol].reset_index().rename(columns={'index':'Date', symbol:'Adj Close'})\n",
    "        df_temp['Symbol']= symbol\n",
    "\n",
    "        df_temp = df_temp.join(daily_returns[symbol], on='Date').rename(columns={symbol:'Daily Returns'})\n",
    "        df_temp = df_temp.join(cumulative_returns[symbol], on='Date').rename(columns={symbol:'Cumulative Returns'})\n",
    "        df_temp = df_temp.join(sma[symbol], on='Date').rename(columns={symbol:'SMA'})\n",
    "        df_temp = df_temp.join(momentum[symbol], on='Date').rename(columns={symbol:'Momentum'})\n",
    "        df_temp = df_temp.join(b_upper_band[symbol], on='Date').rename(columns={symbol:'Upper Band'})\n",
    "        df_temp = df_temp.join(b_lower_band[symbol], on='Date').rename(columns={symbol:'Lower Band'})\n",
    "        df_temp = df_temp.join(market_index['SPY'], on='Date').rename(columns={'SPY':'Market Index'})\n",
    "        indicator_df = pd.concat([indicator_df, df_temp])\n",
    "        \n",
    "        indicator_df.fillna(method='ffill', inplace=True)\n",
    "        indicator_df.fillna(method='bfill', inplace=True)\n",
    "        indicator_df.dropna()\n",
    "    \n",
    "    return indicator_df"
   ]
  },
  {
   "cell_type": "code",
   "execution_count": 453,
   "metadata": {},
   "outputs": [
    {
     "data": {
      "text/html": [
       "<div>\n",
       "<style scoped>\n",
       "    .dataframe tbody tr th:only-of-type {\n",
       "        vertical-align: middle;\n",
       "    }\n",
       "\n",
       "    .dataframe tbody tr th {\n",
       "        vertical-align: top;\n",
       "    }\n",
       "\n",
       "    .dataframe thead th {\n",
       "        text-align: right;\n",
       "    }\n",
       "</style>\n",
       "<table border=\"1\" class=\"dataframe\">\n",
       "  <thead>\n",
       "    <tr style=\"text-align: right;\">\n",
       "      <th></th>\n",
       "      <th>Date</th>\n",
       "      <th>Symbol</th>\n",
       "      <th>Adj Close</th>\n",
       "      <th>Daily Returns</th>\n",
       "      <th>Cumulative Returns</th>\n",
       "      <th>SMA</th>\n",
       "      <th>Momentum</th>\n",
       "      <th>Upper Band</th>\n",
       "      <th>Lower Band</th>\n",
       "      <th>Market Index</th>\n",
       "    </tr>\n",
       "  </thead>\n",
       "  <tbody>\n",
       "    <tr>\n",
       "      <th>0</th>\n",
       "      <td>2020-01-27</td>\n",
       "      <td>BABA</td>\n",
       "      <td>205.470001</td>\n",
       "      <td>0.000000</td>\n",
       "      <td>0.000000</td>\n",
       "      <td>1.039821</td>\n",
       "      <td>0.000000</td>\n",
       "      <td>1.100203</td>\n",
       "      <td>0.979439</td>\n",
       "      <td>316.532745</td>\n",
       "    </tr>\n",
       "    <tr>\n",
       "      <th>1</th>\n",
       "      <td>2020-01-28</td>\n",
       "      <td>BABA</td>\n",
       "      <td>210.229996</td>\n",
       "      <td>0.023166</td>\n",
       "      <td>0.023166</td>\n",
       "      <td>1.039821</td>\n",
       "      <td>0.000000</td>\n",
       "      <td>1.100203</td>\n",
       "      <td>0.979439</td>\n",
       "      <td>319.849731</td>\n",
       "    </tr>\n",
       "    <tr>\n",
       "      <th>2</th>\n",
       "      <td>2020-01-29</td>\n",
       "      <td>BABA</td>\n",
       "      <td>212.020004</td>\n",
       "      <td>0.008515</td>\n",
       "      <td>0.031878</td>\n",
       "      <td>1.039821</td>\n",
       "      <td>0.000000</td>\n",
       "      <td>1.100203</td>\n",
       "      <td>0.979439</td>\n",
       "      <td>319.585510</td>\n",
       "    </tr>\n",
       "    <tr>\n",
       "      <th>3</th>\n",
       "      <td>2020-01-30</td>\n",
       "      <td>BABA</td>\n",
       "      <td>208.580002</td>\n",
       "      <td>-0.016225</td>\n",
       "      <td>0.015136</td>\n",
       "      <td>1.039821</td>\n",
       "      <td>0.000000</td>\n",
       "      <td>1.100203</td>\n",
       "      <td>0.979439</td>\n",
       "      <td>320.622711</td>\n",
       "    </tr>\n",
       "    <tr>\n",
       "      <th>4</th>\n",
       "      <td>2020-01-31</td>\n",
       "      <td>BABA</td>\n",
       "      <td>206.589996</td>\n",
       "      <td>-0.009541</td>\n",
       "      <td>0.005451</td>\n",
       "      <td>1.039821</td>\n",
       "      <td>0.000000</td>\n",
       "      <td>1.100203</td>\n",
       "      <td>0.979439</td>\n",
       "      <td>314.800873</td>\n",
       "    </tr>\n",
       "    <tr>\n",
       "      <th>...</th>\n",
       "      <td>...</td>\n",
       "      <td>...</td>\n",
       "      <td>...</td>\n",
       "      <td>...</td>\n",
       "      <td>...</td>\n",
       "      <td>...</td>\n",
       "      <td>...</td>\n",
       "      <td>...</td>\n",
       "      <td>...</td>\n",
       "      <td>...</td>\n",
       "    </tr>\n",
       "    <tr>\n",
       "      <th>330</th>\n",
       "      <td>2021-05-18</td>\n",
       "      <td>BABA</td>\n",
       "      <td>213.720001</td>\n",
       "      <td>0.012651</td>\n",
       "      <td>0.040152</td>\n",
       "      <td>1.060826</td>\n",
       "      <td>-0.034601</td>\n",
       "      <td>1.133347</td>\n",
       "      <td>0.988306</td>\n",
       "      <td>411.940002</td>\n",
       "    </tr>\n",
       "    <tr>\n",
       "      <th>331</th>\n",
       "      <td>2021-05-19</td>\n",
       "      <td>BABA</td>\n",
       "      <td>212.539993</td>\n",
       "      <td>-0.005521</td>\n",
       "      <td>0.034409</td>\n",
       "      <td>1.053896</td>\n",
       "      <td>-0.033470</td>\n",
       "      <td>1.121264</td>\n",
       "      <td>0.986528</td>\n",
       "      <td>410.859985</td>\n",
       "    </tr>\n",
       "    <tr>\n",
       "      <th>332</th>\n",
       "      <td>2021-05-20</td>\n",
       "      <td>BABA</td>\n",
       "      <td>216.990005</td>\n",
       "      <td>0.020937</td>\n",
       "      <td>0.056067</td>\n",
       "      <td>1.049306</td>\n",
       "      <td>0.052941</td>\n",
       "      <td>1.107788</td>\n",
       "      <td>0.990825</td>\n",
       "      <td>415.279999</td>\n",
       "    </tr>\n",
       "    <tr>\n",
       "      <th>333</th>\n",
       "      <td>2021-05-21</td>\n",
       "      <td>BABA</td>\n",
       "      <td>211.059998</td>\n",
       "      <td>-0.027328</td>\n",
       "      <td>0.027206</td>\n",
       "      <td>1.042371</td>\n",
       "      <td>0.007398</td>\n",
       "      <td>1.091677</td>\n",
       "      <td>0.993065</td>\n",
       "      <td>414.940002</td>\n",
       "    </tr>\n",
       "    <tr>\n",
       "      <th>334</th>\n",
       "      <td>2021-05-24</td>\n",
       "      <td>BABA</td>\n",
       "      <td>210.440002</td>\n",
       "      <td>-0.002938</td>\n",
       "      <td>0.024188</td>\n",
       "      <td>1.037947</td>\n",
       "      <td>-0.002890</td>\n",
       "      <td>1.084737</td>\n",
       "      <td>0.991158</td>\n",
       "      <td>419.170013</td>\n",
       "    </tr>\n",
       "  </tbody>\n",
       "</table>\n",
       "<p>335 rows × 10 columns</p>\n",
       "</div>"
      ],
      "text/plain": [
       "          Date Symbol   Adj Close  Daily Returns  Cumulative Returns  \\\n",
       "0   2020-01-27   BABA  205.470001       0.000000            0.000000   \n",
       "1   2020-01-28   BABA  210.229996       0.023166            0.023166   \n",
       "2   2020-01-29   BABA  212.020004       0.008515            0.031878   \n",
       "3   2020-01-30   BABA  208.580002      -0.016225            0.015136   \n",
       "4   2020-01-31   BABA  206.589996      -0.009541            0.005451   \n",
       "..         ...    ...         ...            ...                 ...   \n",
       "330 2021-05-18   BABA  213.720001       0.012651            0.040152   \n",
       "331 2021-05-19   BABA  212.539993      -0.005521            0.034409   \n",
       "332 2021-05-20   BABA  216.990005       0.020937            0.056067   \n",
       "333 2021-05-21   BABA  211.059998      -0.027328            0.027206   \n",
       "334 2021-05-24   BABA  210.440002      -0.002938            0.024188   \n",
       "\n",
       "          SMA  Momentum  Upper Band  Lower Band  Market Index  \n",
       "0    1.039821  0.000000    1.100203    0.979439    316.532745  \n",
       "1    1.039821  0.000000    1.100203    0.979439    319.849731  \n",
       "2    1.039821  0.000000    1.100203    0.979439    319.585510  \n",
       "3    1.039821  0.000000    1.100203    0.979439    320.622711  \n",
       "4    1.039821  0.000000    1.100203    0.979439    314.800873  \n",
       "..        ...       ...         ...         ...           ...  \n",
       "330  1.060826 -0.034601    1.133347    0.988306    411.940002  \n",
       "331  1.053896 -0.033470    1.121264    0.986528    410.859985  \n",
       "332  1.049306  0.052941    1.107788    0.990825    415.279999  \n",
       "333  1.042371  0.007398    1.091677    0.993065    414.940002  \n",
       "334  1.037947 -0.002890    1.084737    0.991158    419.170013  \n",
       "\n",
       "[335 rows x 10 columns]"
      ]
     },
     "execution_count": 453,
     "metadata": {},
     "output_type": "execute_result"
    }
   ],
   "source": [
    "indicator_model_df = create_indicator_dataframe(data_analysis_df)\n",
    "indicator_model_df"
   ]
  },
  {
   "cell_type": "markdown",
   "metadata": {},
   "source": [
    "## II. MACHINE LEARNING PIPELINE "
   ]
  },
  {
   "cell_type": "markdown",
   "metadata": {},
   "source": [
    "### 1. Create train and test data and standardize"
   ]
  },
  {
   "cell_type": "code",
   "execution_count": 454,
   "metadata": {},
   "outputs": [],
   "source": [
    "from sklearn import preprocessing\n",
    "\n",
    "def create_train_test_data(indicator_df, symbol, train_size=0.8, start_pred='2021-05-07', end_pred='2021-05-14'):\n",
    "    ''' Splits the indicator dataframe into a train and test dataset and standardizes the data of the indipendent variable\n",
    "        INPUT:\n",
    "        indicator_df - dataframe object - dataframe which contains the Adj Close and different indicators for each symbol\n",
    "        symbol - str - symbol of the listed company for which you want to predict stock price\n",
    "        train_size - float - size of train dataset\n",
    "        start_pred - str - start date of prediction\n",
    "        end_pred - str - end date of prediction\n",
    "        OUTPUT:\n",
    "        pred_days - int - days to be predicted\n",
    "        Y_train - 1d array - contains the training dataset of the dependent variable (stock price)\n",
    "        Y_test - 1d array - contains the test dataset of the dependent variable (stock price)\n",
    "        X_train - nd array - contains the training dataset of the independent variables\n",
    "        X_test - nd array - contains the test dataset of the independent variables\n",
    "        X_predict = nd array - contains the data of the independent variable for the prediction period\n",
    "        time_series_train - 1d array - selected time period of training data\n",
    "        time_series_test - 1d array - selected time period of test data\n",
    "    '''\n",
    "    sd = dt.datetime.strptime(start_pred, '%Y-%m-%d')\n",
    "    ed = dt.datetime.strptime(end_pred, '%Y-%m-%d')\n",
    "    \n",
    "    try:\n",
    "        if sd >= ed:\n",
    "            raise ValueError('Start date beyound end date')\n",
    "        else:\n",
    "            pred_days = (ed-sd).days\n",
    "\n",
    "            indicator_df = indicator_df[indicator_df['Date'] <= start_pred] \n",
    "            \n",
    "            df = indicator_df.copy().drop(['Symbol','Date'], axis=1)\n",
    "            \n",
    "            for i in range(1,pred_days):\n",
    "                indicator_df=indicator_df.join(df.shift(i), rsuffix=\"[{} day before]\".format(i))\n",
    "\n",
    "        \n",
    "            train_df = indicator_df.copy().iloc[pred_days:] # Training data starts from the date where data for all indicators is available\n",
    "            \n",
    "            if pred_days > 0:\n",
    "                X = train_df.iloc[:-pred_days,3:] # Reduces the X Date by the number of pred_days at the end of the dataframe\n",
    "                X_predict = train_df.iloc[-pred_days:, 3:]\n",
    "                Y = train_df.drop('Symbol', axis=1).iloc[pred_days:,:2] # Starts at pred_days and takes all data until the end of the dataframe\n",
    "                \n",
    "                X.fillna(method='ffill', inplace=True)\n",
    "                X.fillna(method='bfill', inplace=True)\n",
    "\n",
    "                Y.fillna(method='ffill', inplace=True)\n",
    "                Y.fillna(method='bfill', inplace=True)\n",
    "                \n",
    "            \n",
    "            train_ct = int(X.shape[0] * train_size)\n",
    "            test_ct = X.shape[0] - train_size\n",
    "\n",
    "            X_train, X_test = X.iloc[:train_ct], X.iloc[train_ct:]  \n",
    "            Y_train, Y_test = Y.iloc[:train_ct].copy().drop('Date', axis=1), Y.iloc[train_ct:].copy().drop('Date', axis=1)\n",
    "\n",
    "            time_series_train = Y.iloc[:train_ct].Date\n",
    "            time_series_test = Y.iloc[train_ct:].Date   \n",
    "\n",
    "\n",
    "            return pred_days, preprocessing.scale(X_train), Y_train['Adj Close'].tolist(), preprocessing.scale(X_test), Y_test['Adj Close'].tolist(), time_series_train, time_series_test, preprocessing.scale(X_predict)\n",
    "        \n",
    "    \n",
    "    except ValueError:\n",
    "        raise\n",
    "        "
   ]
  },
  {
   "cell_type": "code",
   "execution_count": 455,
   "metadata": {
    "scrolled": true
   },
   "outputs": [],
   "source": [
    "pred_days, X_train, Y_train, X_test, Y_test, time_series_train, time_series_test, X_predict   = create_train_test_data(indicator_model_df, symbol='AAPL', train_size=0.8)"
   ]
  },
  {
   "cell_type": "code",
   "execution_count": 456,
   "metadata": {},
   "outputs": [
    {
     "data": {
      "text/plain": [
       "(7, 248, 248, 248)"
      ]
     },
     "execution_count": 456,
     "metadata": {},
     "output_type": "execute_result"
    }
   ],
   "source": [
    "pred_days, len(X_train), len(Y_train),  len(time_series_train)"
   ]
  },
  {
   "cell_type": "code",
   "execution_count": 457,
   "metadata": {},
   "outputs": [
    {
     "data": {
      "text/plain": [
       "(62, 62, 62)"
      ]
     },
     "execution_count": 457,
     "metadata": {},
     "output_type": "execute_result"
    }
   ],
   "source": [
    "len(X_test), len(Y_test),len(time_series_test)"
   ]
  },
  {
   "cell_type": "markdown",
   "metadata": {},
   "source": [
    "### 2. Setup and validate different models"
   ]
  },
  {
   "cell_type": "code",
   "execution_count": 458,
   "metadata": {},
   "outputs": [],
   "source": [
    "from sklearn import linear_model\n",
    "\n",
    "from sklearn.svm import SVR\n",
    "from sklearn.ensemble import AdaBoostRegressor\n",
    "from sklearn.ensemble import RandomForestRegressor\n",
    "from sklearn.neighbors import KNeighborsRegressor\n",
    "from sklearn.metrics import mean_squared_error, mean_absolute_error, mean_absolute_percentage_error, r2_score\n"
   ]
  },
  {
   "cell_type": "code",
   "execution_count": 474,
   "metadata": {},
   "outputs": [],
   "source": [
    "# Evaluate model performance and plot data\n",
    "def evaluate_model_performance(Y_test, Y_predict, Y_future, time_series_test):\n",
    "    ''' Function that generates different performance indicators comparing test data and the predicted data\n",
    "        and plots the data\n",
    "        INPUT:\n",
    "        Y_test - 1d array - contains the test dataset of the dependent variable (stock price)\n",
    "        Y_predict - 1d array - contains the predicted dataset of the dependent variable (stock price) for the test period\n",
    "        Y_future - 1d array - contains the predicted dataset of the dependent variable (stock price) for a future period\n",
    "        time_series_test - 1d array - selected time period of test data\n",
    "    '''\n",
    "    \n",
    "    corr = np.corrcoef(Y_test, Y_predict)\n",
    "    corrcoef = corr[0,1]\n",
    "    mae = mean_absolute_error(Y_test, Y_predict)\n",
    "    mape = mean_absolute_percentage_error(Y_test, Y_predict)\n",
    "    r2 = r2_score(Y_test, Y_predict)\n",
    "    \n",
    "    fig = plt.figure(figsize=(12,8))\n",
    "    \n",
    "    value_days = len(Y_future)\n",
    "    end_date = (time_series_test.iloc[-1] + dt.timedelta(days=value_days+1))\n",
    "\n",
    "    time_series_future = pd.date_range(time_series_test.iloc[-1]+ dt.timedelta(days=2) , end_date).tolist()\n",
    "\n",
    "    plt.plot(time_series_test, Y_test, color='lightblue', linewidth=2, label='test data')\n",
    "    plt.plot(time_series_test, Y_predict.reshape(-1,1), color='red',  linewidth=2, label='predicted data')\n",
    "    \n",
    "    plt.plot(time_series_future , Y_future.reshape(-1,1), color='green',  linewidth=2, label='future predicted data')\n",
    "    \n",
    "    plt.legend()\n",
    "    \n",
    "    return print(('MAE {} \\n MAPE {} \\n r2 {} \\n CORRCOEF {} \\n').format(mae, mape, r2 , corrcoef))"
   ]
  },
  {
   "cell_type": "code",
   "execution_count": 475,
   "metadata": {},
   "outputs": [],
   "source": [
    "# Lasso LARS\n",
    "\n",
    "lassolars = linear_model.LassoLars(alpha = 0.1)\n",
    "lassolars.fit(X_train, Y_train)\n",
    "Y_lassolars_predict = lassolars.predict(X_test)\n",
    "Y_lassolars_future = lassolars.predict(X_predict)"
   ]
  },
  {
   "cell_type": "code",
   "execution_count": 476,
   "metadata": {
    "scrolled": true
   },
   "outputs": [
    {
     "name": "stdout",
     "output_type": "stream",
     "text": [
      "MAE 17.39339607903848 \n",
      " MAPE 0.07225269190596541 \n",
      " r2 -2.136634024744202 \n",
      " CORRCOEF 0.6846479385561578 \n",
      "\n"
     ]
    },
    {
     "data": {
      "image/png": "[encoded data removed]",
      "text/plain": [
       "<Figure size 864x576 with 1 Axes>"
      ]
     },
     "metadata": {
      "needs_background": "light"
     },
     "output_type": "display_data"
    }
   ],
   "source": [
    "evaluate_model_performance(Y_test, Y_lassolars_predict, Y_lassolars_future, time_series_test)"
   ]
  },
  {
   "cell_type": "code",
   "execution_count": 462,
   "metadata": {},
   "outputs": [
    {
     "data": {
      "text/plain": [
       "array([298.17533436, 266.21405309, 262.34349868, 233.55463707,\n",
       "       221.24443474, 217.00023408, 205.74962434])"
      ]
     },
     "execution_count": 462,
     "metadata": {},
     "output_type": "execute_result"
    }
   ],
   "source": [
    "Y_lassolars_future"
   ]
  },
  {
   "cell_type": "code",
   "execution_count": 463,
   "metadata": {},
   "outputs": [],
   "source": [
    "# knn\n",
    "knn = KNeighborsRegressor(n_neighbors=15)  #weights='distance'\n",
    "knn.fit(X_train, Y_train)\n",
    "Y_knn_predict = knn.predict(X_test)\n",
    "Y_knn_future = knn.predict(X_predict)"
   ]
  },
  {
   "cell_type": "code",
   "execution_count": 464,
   "metadata": {
    "scrolled": true
   },
   "outputs": [
    {
     "name": "stdout",
     "output_type": "stream",
     "text": [
      "RMSE 30.05744915441519 \n",
      " MSE 903.4502496702544 \n",
      " MAE 22.723645347677248 \n",
      " MAPE 0.09469848986270073 \n",
      " r2 -4.233337480778108 \n",
      " CORRCOEF 0.5827264884507792 \n",
      "\n"
     ]
    },
    {
     "data": {
      "image/png": "[encoded data removed]",
      "text/plain": [
       "<Figure size 864x576 with 1 Axes>"
      ]
     },
     "metadata": {
      "needs_background": "light"
     },
     "output_type": "display_data"
    }
   ],
   "source": [
    "evaluate_model_performance(Y_test, Y_knn_predict, Y_knn_future, time_series_test)"
   ]
  },
  {
   "cell_type": "code",
   "execution_count": 465,
   "metadata": {},
   "outputs": [],
   "source": [
    "# AdaBoost\n",
    "AdaBoost = AdaBoostRegressor(base_estimator=knn, random_state=42)\n",
    "AdaBoost.fit(X_train, Y_train)\n",
    "Y_AdaBoost_predict = AdaBoost.predict(X_test)\n",
    "Y_AdaBoost_future = AdaBoost.predict(X_predict)"
   ]
  },
  {
   "cell_type": "code",
   "execution_count": 466,
   "metadata": {
    "scrolled": true
   },
   "outputs": [
    {
     "name": "stdout",
     "output_type": "stream",
     "text": [
      "RMSE 30.10494951440451 \n",
      " MSE 906.3079852648443 \n",
      " MAE 22.744237460885 \n",
      " MAPE 0.09486925799599341 \n",
      " r2 -4.249891236563531 \n",
      " CORRCOEF 0.5692680715689287 \n",
      "\n"
     ]
    },
    {
     "data": {
      "image/png": "[encoded data removed]",
      "text/plain": [
       "<Figure size 864x576 with 1 Axes>"
      ]
     },
     "metadata": {
      "needs_background": "light"
     },
     "output_type": "display_data"
    }
   ],
   "source": [
    "evaluate_model_performance(Y_test, Y_AdaBoost_predict, Y_AdaBoost_future, time_series_test)"
   ]
  },
  {
   "cell_type": "code",
   "execution_count": 467,
   "metadata": {},
   "outputs": [],
   "source": [
    "# Random Forest Regression\n",
    "randomforest = RandomForestRegressor(random_state=42, criterion='mse', n_estimators=10, min_samples_split=10)\n",
    "randomforest.fit(X_train, Y_train)\n",
    "Y_randomforest_predict = randomforest.predict(X_test)\n",
    "Y_randomforest_future = randomforest.predict(X_predict)"
   ]
  },
  {
   "cell_type": "code",
   "execution_count": 468,
   "metadata": {},
   "outputs": [
    {
     "name": "stdout",
     "output_type": "stream",
     "text": [
      "RMSE 28.53909467623226 \n",
      " MSE 814.4799249389486 \n",
      " MAE 24.067687120276076 \n",
      " MAPE 0.10084748702457491 \n",
      " r2 -3.71796683888246 \n",
      " CORRCOEF 0.6554568664119451 \n",
      "\n"
     ]
    },
    {
     "data": {
      "image/png": "[encoded data removed]",
      "text/plain": [
       "<Figure size 864x576 with 1 Axes>"
      ]
     },
     "metadata": {
      "needs_background": "light"
     },
     "output_type": "display_data"
    }
   ],
   "source": [
    "evaluate_model_performance(Y_test, Y_randomforest_predict, Y_randomforest_future, time_series_test)"
   ]
  },
  {
   "cell_type": "markdown",
   "metadata": {},
   "source": [
    "### 3. Put all the above into one class"
   ]
  },
  {
   "cell_type": "code",
   "execution_count": 478,
   "metadata": {},
   "outputs": [],
   "source": [
    "class StockDataAnalysis():\n",
    "    ''' Creates a StockDataAnalysis object which is able to take one or mutiple stock symbols and a timeframe and then computes\n",
    "        a range of indicators on the stock data and plots the results'''\n",
    "    \n",
    "    def __init__(self, symbol='AAPL', start_date='2020-01-01', end_date='2021-04-16'):\n",
    "        ''' Create an instance of StockDataAnalysis'''\n",
    "        self.symbol = symbol\n",
    "        self.start_date = start_date\n",
    "        self.end_date = end_date\n",
    "        \n",
    "        self.data = get_data(self.symbol, self.start_date, self.end_date)\n",
    "        self.data_norm = normalize_stock_data(self.data)\n",
    "        \n",
    "    # Plot stock price data and check for anomalies\n",
    "\n",
    "    def plot_stock_data(self, normalized=True):\n",
    "        if normalized:\n",
    "            df = self.data_norm\n",
    "            title_str = 'Relative stock price development'\n",
    "        else:\n",
    "            df = self.data\n",
    "            title_str = 'Absolute stock price development'\n",
    "        if isinstance(df, pd.Series):\n",
    "            plt.figure(figsize=(12,8))\n",
    "            ax1 = df.plot()\n",
    "            ax1.set_xlabel('time')\n",
    "            ax1.set_ylabel('price')\n",
    "            ax1.set_title(title_str)\n",
    "            plt.legend(loc='upper right')\n",
    "            plt.show()\n",
    "        else:\n",
    "            plt.figure(figsize=(12,18))\n",
    "            ax2 = plt.subplot(2,1,1)\n",
    "            ax2.set_xlabel('time')\n",
    "            ax2.set_ylabel('price development')\n",
    "            ax2.set_title(title_str)\n",
    "            for col in df.columns:\n",
    "                df[col].plot()\n",
    "        \n",
    "            plt.legend(loc='upper right')\n",
    "           \n",
    "    def calculate_rolling_stats(self, win=10):\n",
    "        rm = self.data_norm.rolling(window=win).mean()\n",
    "        rstd = self.data_norm.rolling(window=win).std()\n",
    "        self.sma = rm.dropna()\n",
    "        self.rstd = rstd.dropna()\n",
    "        \n",
    "    def calculate_bollinger_bands(self):\n",
    "        self.b_upper_band = self.sma + self.rstd*2\n",
    "        self.b_lower_band = self.sma - self.rstd*2\n",
    "            \n",
    "    def calculate_daily_returns(self):\n",
    "        daily_returns = self.data.copy()\n",
    "        daily_returns[1:] = (self.data[1:]/self.data[:-1].values) - 1\n",
    "        daily_returns.iloc[0,:] = 0\n",
    "        self.daily_returns = daily_returns\n",
    "        \n",
    "\n",
    "    def calculate_cumulative_returns(self):\n",
    "        cumulative_returns = self.data.copy\n",
    "        cumulative_returns= (self.data/self.data.iloc[0]) - 1\n",
    "        self.cumulative_returns = cumulative_returns\n",
    "        \n",
    "        \n",
    "    def calculate_momentum(self, win=5):\n",
    "        self.momentum = self.data.copy()\n",
    "        self.momentum[win:] = (self.data[win:]/self.data[:-(win)].values) - 1\n",
    "        self.momentum.iloc[0:(win),:] = 0\n",
    "        \n",
    "    \n",
    "    def get_market_index(self, market_ix='SPY'):\n",
    "        self.market_ix = market_ix\n",
    "        self.market_index = get_data(symbol=market_ix, start_date=self.start_date, end_date=self.end_date)\n",
    "        \n",
    "    def setup_features(self, market_ix='SPY'):\n",
    "        self.calculate_rolling_stats()\n",
    "        self.calculate_bollinger_bands()\n",
    "        self.calculate_daily_returns()\n",
    "        self.calculate_cumulative_returns()\n",
    "        self.calculate_momentum()\n",
    "        self.get_market_index(market_ix=market_ix)\n",
    "        \n",
    "            \n",
    "    def create_indicator_dataframe(self):\n",
    "        ''' Function which which takes the Adj Close and corresponding dates per symbol, adds a new column containing the symbol \n",
    "            and joins all indicators to one dataframe \n",
    "            INPUT: \n",
    "            object \n",
    "            OUTPUT:\n",
    "            indicator_df - dataframe - contains the Adj Close and all indicators as features tagged by the symbol '''\n",
    "        \n",
    "        self.indicator_df = pd.DataFrame(columns=['Date','Symbol', 'Adj Close','Daily Returns','Cumulative Returns','SMA', 'Momentum', 'Upper Band','Lower Band','Market Index'])\n",
    "        \n",
    "        for symbol in self.data.columns:\n",
    "            df_temp = self.data[symbol].reset_index().rename(columns={'index':'Date', symbol:'Adj Close'})\n",
    "            df_temp['Symbol'] = symbol\n",
    "            \n",
    "            df_temp = df_temp.join(self.daily_returns[symbol], on='Date').rename(columns={symbol:'Daily Returns'})\n",
    "            df_temp = df_temp.join(self.cumulative_returns[symbol], on='Date').rename(columns={symbol:'Cumulative Returns'})\n",
    "            df_temp = df_temp.join(self.sma[symbol], on='Date').rename(columns={symbol:'SMA'})\n",
    "            df_temp = df_temp.join(self.momentum[symbol], on='Date').rename(columns={symbol:'Momentum'})\n",
    "            df_temp = df_temp.join(self.b_upper_band[symbol], on='Date').rename(columns={symbol:'Upper Band'})\n",
    "            df_temp = df_temp.join(self.b_lower_band[symbol], on='Date').rename(columns={symbol:'Lower Band'})\n",
    "            df_temp = df_temp.join(self.market_index[self.market_ix], on='Date').rename(columns={self.market_ix:'Market Index'})                   \n",
    "\n",
    "            self.indicator_df = pd.concat([self.indicator_df, df_temp])\n",
    "            \n",
    "            self.indicator_df.fillna(method='ffill', inplace=True)\n",
    "            self.indicator_df.fillna(method='bfill', inplace=True)\n",
    "            self.indicator_df.dropna()\n",
    "\n",
    "        return self.indicator_df"
   ]
  },
  {
   "cell_type": "code",
   "execution_count": 479,
   "metadata": {},
   "outputs": [
    {
     "name": "stdout",
     "output_type": "stream",
     "text": [
      "[*********************100%***********************]  1 of 1 completed\n"
     ]
    }
   ],
   "source": [
    "st_data = StockDataAnalysis('AAPL','2020-12-25','2021-05-21')"
   ]
  },
  {
   "cell_type": "code",
   "execution_count": 480,
   "metadata": {
    "scrolled": true
   },
   "outputs": [
    {
     "data": {
      "image/png": "[encoded data removed]",
      "text/plain": [
       "<Figure size 864x1296 with 1 Axes>"
      ]
     },
     "metadata": {
      "needs_background": "light"
     },
     "output_type": "display_data"
    }
   ],
   "source": [
    "st_data.plot_stock_data()"
   ]
  },
  {
   "cell_type": "code",
   "execution_count": 481,
   "metadata": {
    "scrolled": true
   },
   "outputs": [
    {
     "name": "stdout",
     "output_type": "stream",
     "text": [
      "[*********************100%***********************]  1 of 1 completed\n"
     ]
    }
   ],
   "source": [
    "st_data.setup_features()"
   ]
  },
  {
   "cell_type": "code",
   "execution_count": 482,
   "metadata": {},
   "outputs": [],
   "source": [
    "st_data.calculate_rolling_stats()"
   ]
  },
  {
   "cell_type": "code",
   "execution_count": 483,
   "metadata": {},
   "outputs": [],
   "source": [
    "st_data.calculate_bollinger_bands()"
   ]
  },
  {
   "cell_type": "code",
   "execution_count": 484,
   "metadata": {},
   "outputs": [],
   "source": [
    "st_data.calculate_daily_returns()"
   ]
  },
  {
   "cell_type": "code",
   "execution_count": 485,
   "metadata": {},
   "outputs": [],
   "source": [
    "st_data.calculate_momentum()"
   ]
  },
  {
   "cell_type": "code",
   "execution_count": 486,
   "metadata": {},
   "outputs": [],
   "source": [
    "st_data.calculate_cumulative_returns()"
   ]
  },
  {
   "cell_type": "code",
   "execution_count": 487,
   "metadata": {},
   "outputs": [
    {
     "name": "stdout",
     "output_type": "stream",
     "text": [
      "[*********************100%***********************]  1 of 1 completed\n"
     ]
    }
   ],
   "source": [
    "st_data.get_market_index()"
   ]
  },
  {
   "cell_type": "code",
   "execution_count": 489,
   "metadata": {},
   "outputs": [
    {
     "data": {
      "text/html": [
       "<div>\n",
       "<style scoped>\n",
       "    .dataframe tbody tr th:only-of-type {\n",
       "        vertical-align: middle;\n",
       "    }\n",
       "\n",
       "    .dataframe tbody tr th {\n",
       "        vertical-align: top;\n",
       "    }\n",
       "\n",
       "    .dataframe thead th {\n",
       "        text-align: right;\n",
       "    }\n",
       "</style>\n",
       "<table border=\"1\" class=\"dataframe\">\n",
       "  <thead>\n",
       "    <tr style=\"text-align: right;\">\n",
       "      <th></th>\n",
       "      <th>Date</th>\n",
       "      <th>Symbol</th>\n",
       "      <th>Adj Close</th>\n",
       "      <th>Daily Returns</th>\n",
       "      <th>Cumulative Returns</th>\n",
       "      <th>SMA</th>\n",
       "      <th>Momentum</th>\n",
       "      <th>Upper Band</th>\n",
       "      <th>Lower Band</th>\n",
       "      <th>Market Index</th>\n",
       "    </tr>\n",
       "  </thead>\n",
       "  <tbody>\n",
       "    <tr>\n",
       "      <th>0</th>\n",
       "      <td>2020-12-28</td>\n",
       "      <td>AAPL</td>\n",
       "      <td>136.254608</td>\n",
       "      <td>0.000000</td>\n",
       "      <td>0.000000</td>\n",
       "      <td>0.963450</td>\n",
       "      <td>0.000000</td>\n",
       "      <td>1.007037</td>\n",
       "      <td>0.919863</td>\n",
       "      <td>370.955048</td>\n",
       "    </tr>\n",
       "    <tr>\n",
       "      <th>1</th>\n",
       "      <td>2020-12-29</td>\n",
       "      <td>AAPL</td>\n",
       "      <td>134.440399</td>\n",
       "      <td>-0.013315</td>\n",
       "      <td>-0.013315</td>\n",
       "      <td>0.963450</td>\n",
       "      <td>0.000000</td>\n",
       "      <td>1.007037</td>\n",
       "      <td>0.919863</td>\n",
       "      <td>370.247345</td>\n",
       "    </tr>\n",
       "    <tr>\n",
       "      <th>2</th>\n",
       "      <td>2020-12-30</td>\n",
       "      <td>AAPL</td>\n",
       "      <td>133.294067</td>\n",
       "      <td>-0.008527</td>\n",
       "      <td>-0.021728</td>\n",
       "      <td>0.963450</td>\n",
       "      <td>0.000000</td>\n",
       "      <td>1.007037</td>\n",
       "      <td>0.919863</td>\n",
       "      <td>370.775604</td>\n",
       "    </tr>\n",
       "    <tr>\n",
       "      <th>3</th>\n",
       "      <td>2020-12-31</td>\n",
       "      <td>AAPL</td>\n",
       "      <td>132.267349</td>\n",
       "      <td>-0.007703</td>\n",
       "      <td>-0.029263</td>\n",
       "      <td>0.963450</td>\n",
       "      <td>0.000000</td>\n",
       "      <td>1.007037</td>\n",
       "      <td>0.919863</td>\n",
       "      <td>372.659454</td>\n",
       "    </tr>\n",
       "    <tr>\n",
       "      <th>4</th>\n",
       "      <td>2021-01-04</td>\n",
       "      <td>AAPL</td>\n",
       "      <td>128.997803</td>\n",
       "      <td>-0.024719</td>\n",
       "      <td>-0.053259</td>\n",
       "      <td>0.963450</td>\n",
       "      <td>0.000000</td>\n",
       "      <td>1.007037</td>\n",
       "      <td>0.919863</td>\n",
       "      <td>367.586090</td>\n",
       "    </tr>\n",
       "    <tr>\n",
       "      <th>...</th>\n",
       "      <td>...</td>\n",
       "      <td>...</td>\n",
       "      <td>...</td>\n",
       "      <td>...</td>\n",
       "      <td>...</td>\n",
       "      <td>...</td>\n",
       "      <td>...</td>\n",
       "      <td>...</td>\n",
       "      <td>...</td>\n",
       "      <td>...</td>\n",
       "    </tr>\n",
       "    <tr>\n",
       "      <th>95</th>\n",
       "      <td>2021-05-14</td>\n",
       "      <td>AAPL</td>\n",
       "      <td>127.449997</td>\n",
       "      <td>0.019845</td>\n",
       "      <td>-0.064619</td>\n",
       "      <td>0.936123</td>\n",
       "      <td>-0.021197</td>\n",
       "      <td>0.976016</td>\n",
       "      <td>0.896231</td>\n",
       "      <td>416.579987</td>\n",
       "    </tr>\n",
       "    <tr>\n",
       "      <th>96</th>\n",
       "      <td>2021-05-17</td>\n",
       "      <td>AAPL</td>\n",
       "      <td>126.269997</td>\n",
       "      <td>-0.009259</td>\n",
       "      <td>-0.073279</td>\n",
       "      <td>0.931687</td>\n",
       "      <td>-0.004572</td>\n",
       "      <td>0.963307</td>\n",
       "      <td>0.900066</td>\n",
       "      <td>415.519989</td>\n",
       "    </tr>\n",
       "    <tr>\n",
       "      <th>97</th>\n",
       "      <td>2021-05-18</td>\n",
       "      <td>AAPL</td>\n",
       "      <td>124.849998</td>\n",
       "      <td>-0.011246</td>\n",
       "      <td>-0.083701</td>\n",
       "      <td>0.929644</td>\n",
       "      <td>-0.008419</td>\n",
       "      <td>0.962435</td>\n",
       "      <td>0.896853</td>\n",
       "      <td>411.940002</td>\n",
       "    </tr>\n",
       "    <tr>\n",
       "      <th>98</th>\n",
       "      <td>2021-05-19</td>\n",
       "      <td>AAPL</td>\n",
       "      <td>124.690002</td>\n",
       "      <td>-0.001282</td>\n",
       "      <td>-0.084875</td>\n",
       "      <td>0.927301</td>\n",
       "      <td>0.015639</td>\n",
       "      <td>0.960606</td>\n",
       "      <td>0.893996</td>\n",
       "      <td>410.859985</td>\n",
       "    </tr>\n",
       "    <tr>\n",
       "      <th>99</th>\n",
       "      <td>2021-05-20</td>\n",
       "      <td>AAPL</td>\n",
       "      <td>127.309998</td>\n",
       "      <td>0.021012</td>\n",
       "      <td>-0.065646</td>\n",
       "      <td>0.925679</td>\n",
       "      <td>0.018724</td>\n",
       "      <td>0.955326</td>\n",
       "      <td>0.896032</td>\n",
       "      <td>415.279999</td>\n",
       "    </tr>\n",
       "  </tbody>\n",
       "</table>\n",
       "<p>100 rows × 10 columns</p>\n",
       "</div>"
      ],
      "text/plain": [
       "         Date Symbol   Adj Close  Daily Returns  Cumulative Returns       SMA  \\\n",
       "0  2020-12-28   AAPL  136.254608       0.000000            0.000000  0.963450   \n",
       "1  2020-12-29   AAPL  134.440399      -0.013315           -0.013315  0.963450   \n",
       "2  2020-12-30   AAPL  133.294067      -0.008527           -0.021728  0.963450   \n",
       "3  2020-12-31   AAPL  132.267349      -0.007703           -0.029263  0.963450   \n",
       "4  2021-01-04   AAPL  128.997803      -0.024719           -0.053259  0.963450   \n",
       "..        ...    ...         ...            ...                 ...       ...   \n",
       "95 2021-05-14   AAPL  127.449997       0.019845           -0.064619  0.936123   \n",
       "96 2021-05-17   AAPL  126.269997      -0.009259           -0.073279  0.931687   \n",
       "97 2021-05-18   AAPL  124.849998      -0.011246           -0.083701  0.929644   \n",
       "98 2021-05-19   AAPL  124.690002      -0.001282           -0.084875  0.927301   \n",
       "99 2021-05-20   AAPL  127.309998       0.021012           -0.065646  0.925679   \n",
       "\n",
       "    Momentum  Upper Band  Lower Band  Market Index  \n",
       "0   0.000000    1.007037    0.919863    370.955048  \n",
       "1   0.000000    1.007037    0.919863    370.247345  \n",
       "2   0.000000    1.007037    0.919863    370.775604  \n",
       "3   0.000000    1.007037    0.919863    372.659454  \n",
       "4   0.000000    1.007037    0.919863    367.586090  \n",
       "..       ...         ...         ...           ...  \n",
       "95 -0.021197    0.976016    0.896231    416.579987  \n",
       "96 -0.004572    0.963307    0.900066    415.519989  \n",
       "97 -0.008419    0.962435    0.896853    411.940002  \n",
       "98  0.015639    0.960606    0.893996    410.859985  \n",
       "99  0.018724    0.955326    0.896032    415.279999  \n",
       "\n",
       "[100 rows x 10 columns]"
      ]
     },
     "execution_count": 489,
     "metadata": {},
     "output_type": "execute_result"
    }
   ],
   "source": [
    "st_data.create_indicator_dataframe()\n",
    "st_data.indicator_df"
   ]
  },
  {
   "cell_type": "code",
   "execution_count": null,
   "metadata": {},
   "outputs": [],
   "source": []
  },
  {
   "cell_type": "code",
   "execution_count": 490,
   "metadata": {},
   "outputs": [],
   "source": [
    "class ModelStockPrice():\n",
    "    def __init__(self, start_predict=None, end_predict=None):\n",
    "        '''Create an instance of the model to predict stockprice'''\n",
    "        \n",
    "        self.start_predict = start_predict\n",
    "        self.end_predict = end_predict\n",
    "        \n",
    "        self.model = linear_model.LassoLars(alpha = 0.1)\n",
    "\n",
    "\n",
    "    def create_train_test_data(self, stockdata, train_size=0.8, start_pred='2019-05-10', end_pred='2019-05-17'):\n",
    "        ''' Splits the indicator dataframe into a train and test dataset and standardizes the data of the indipendent variable\n",
    "            INPUT:\n",
    "            indicator_df - dataframe object - dataframe which contains the Adj Close and different indicators for each symbol\n",
    "            symbol - str - symbol of the listed company for which you want to predict stock price\n",
    "            train_size - float - size of train dataset\n",
    "            start_pred - str - start date of prediction\n",
    "            end_pred - str - end date of prediction\n",
    "            OUTPUT:\n",
    "            pred_days - int - days to be predicted\n",
    "            Y_train - 1d array - contains the training dataset of the dependent variable (stock price)\n",
    "            Y_test - 1d array - contains the test dataset of the dependent variable (stock price)\n",
    "            X_train - nd array - contains the training dataset of the independent variables\n",
    "            X_test - nd array - contains the test dataset of the independent variables\n",
    "            X_predict = nd array - contains the data of the independent variable for the prediction period\n",
    "            time_series_train - 1d array - selected time period of training data\n",
    "            time_series_test - 1d array - selected time period of test data\n",
    "            time_series_test - 1d array - predicted time period\n",
    "\n",
    "        '''\n",
    "        sd = dt.datetime.strptime(start_pred, '%Y-%m-%d')\n",
    "        ed = dt.datetime.strptime(end_pred, '%Y-%m-%d')\n",
    "\n",
    "        try:\n",
    "            if sd >= ed:\n",
    "                raise ValueError('Start date beyound end date')\n",
    "            else:\n",
    "                self.pred_days = (ed-sd).days\n",
    "\n",
    "                indicator_df = stockdata.indicator_df[stockdata.indicator_df['Date'] <= start_pred] \n",
    "\n",
    "                df = stockdata.indicator_df.copy().drop(['Symbol','Date'], axis=1)\n",
    "\n",
    "                for i in range(1, self.pred_days):\n",
    "                    indicator_df=indicator_df.join(df.shift(i), rsuffix=\"[{} day before]\".format(i))\n",
    "\n",
    "\n",
    "                train_df = indicator_df.copy().iloc[self.pred_days:] # Training data starts from the date where data for all indicators is available\n",
    "\n",
    "                if self.pred_days > 0:\n",
    "                    X = train_df.iloc[:-pred_days,3:] # Reduces the X Date by the number of pred_days at the end of the dataframe\n",
    "                    self.X_predict = preprocessing.scale(train_df.iloc[-pred_days:, 3:])\n",
    "                    Y = train_df.drop('Symbol', axis=1).iloc[pred_days:,:2] # Starts at pred_days and takes all data until the end of the dataframe\n",
    "\n",
    "                    X.fillna(method='ffill', inplace=True)\n",
    "                    X.fillna(method='bfill', inplace=True)\n",
    "\n",
    "                    Y.fillna(method='ffill', inplace=True)\n",
    "                    Y.fillna(method='bfill', inplace=True)\n",
    "\n",
    "\n",
    "                train_ct = int(X.shape[0] * train_size)\n",
    "                test_ct = X.shape[0] - train_size\n",
    "\n",
    "                self.X_train, self.X_test = preprocessing.scale(X.iloc[:train_ct]), preprocessing.scale(X.iloc[train_ct:])  \n",
    "                self.Y_train, self.Y_test = Y.iloc[:train_ct]['Adj Close'].copy().tolist(), Y.iloc[train_ct:]['Adj Close'].copy().tolist()\n",
    "\n",
    "                self.time_series_train = Y.iloc[:train_ct].Date\n",
    "                self.time_series_test = Y.iloc[train_ct:].Date   \n",
    "\n",
    "\n",
    "                return self.pred_days, self.X_train, self.Y_train, self.X_test, self.Y_test, self.time_series_train, self.time_series_test, X_predict\n",
    "\n",
    "\n",
    "        except ValueError:\n",
    "            raise\n",
    "\n",
    "            \n",
    "    def fit(self):\n",
    "        '''Fit the model with training data '''\n",
    "        self.model.fit(self.X_train, self.Y_train)\n",
    "\n",
    "    def predict(self):\n",
    "        '''Predict stockprice '''\n",
    "        self.Y_predict = self.model.predict(self.X_test)\n",
    "        self.Y_future = self.model.predict(self.X_predict)\n",
    "        return self.Y_predict, self.Y_future\n",
    "    \n",
    "    def evaluate_model_performance(self):\n",
    "        ''' Function that generates different performance indicators comparing test data and the predicted data\n",
    "            and plots the data\n",
    "            INPUT:\n",
    "            Y_test - 1d array - contains the test dataset of the dependent variable (stock price)\n",
    "            Y_predict - 1d array - contains the predicted dataset of the dependent variable (stock price) for the test period\n",
    "            Y_future - 1d array - contains the predicted dataset of the dependent variable (stock price) for a future period\n",
    "            time_series_test - 1d array - selected time period of test data\n",
    "        '''\n",
    "\n",
    "        corr = np.corrcoef(self.Y_test, self.Y_predict)\n",
    "        corrcoef = corr[0,1]\n",
    "        mae = mean_absolute_error(self.Y_test, self.Y_predict)\n",
    "        mape = mean_absolute_percentage_error(self.Y_test, self.Y_predict)\n",
    "        r2 = r2_score(self.Y_test, self.Y_predict)\n",
    "\n",
    "        fig = plt.figure(figsize=(12,8))\n",
    "\n",
    "        value_days = len(self.Y_future)\n",
    "        end_date = (self.time_series_test.iloc[-1] + dt.timedelta(days=value_days+1))\n",
    "\n",
    "        time_series_future = pd.date_range(self.time_series_test.iloc[-1]+ dt.timedelta(days=2) , end_date).tolist()\n",
    "\n",
    "        plt.plot(self.time_series_test, self.Y_test, color='lightblue', linewidth=2, label='test data')\n",
    "        plt.plot(self.time_series_test, self.Y_predict.reshape(-1,1), color='red',  linewidth=2, label='predicted data')\n",
    "\n",
    "        plt.plot(time_series_future , self.Y_future.reshape(-1,1), color='green',  linewidth=2, label='future predicted data')\n",
    "\n",
    "        plt.legend()\n",
    "\n",
    "        return print(('MAE {} \\n MAPE {} \\n r2 {} \\n CORRCOEF {} \\n').format(mae, mape, r2 , corrcoef))\n",
    "    "
   ]
  },
  {
   "cell_type": "code",
   "execution_count": 491,
   "metadata": {},
   "outputs": [],
   "source": [
    "price_reg = ModelStockPrice()"
   ]
  },
  {
   "cell_type": "code",
   "execution_count": 493,
   "metadata": {},
   "outputs": [
    {
     "data": {
      "text/plain": [
       "(5,\n",
       " array([[ 0.57289586,  0.36334754,  0.54230889, ...,  0.38286127,\n",
       "          0.57775066, -1.60128677],\n",
       "        [-1.70275294, -0.32629002,  0.54230889, ...,  0.38286127,\n",
       "          0.57775066, -1.54720794],\n",
       "        [ 1.64876216,  0.34927438,  0.54230889, ...,  0.38286127,\n",
       "          0.57775066, -1.35435491],\n",
       "        ...,\n",
       "        [ 1.16339137,  0.92958222, -0.19704778, ..., -0.9125235 ,\n",
       "         -1.06231076,  2.11917403],\n",
       "        [-0.92112821,  0.55370985,  0.0223089 , ..., -0.56790026,\n",
       "         -1.12469078,  2.31675076],\n",
       "        [ 0.88656947,  0.94054583,  0.24564388, ..., -0.15171691,\n",
       "         -1.19973248,  2.62079498]]),\n",
       " [128.49940490722656,\n",
       "  126.73502349853516,\n",
       "  127.4228286743164,\n",
       "  131.6094512939453,\n",
       "  136.43402099609375,\n",
       "  138.6270294189453,\n",
       "  142.4647674560547,\n",
       "  142.70401000976562,\n",
       "  141.60751342773438,\n",
       "  136.65333557128906,\n",
       "  131.5396728515625,\n",
       "  133.7127227783203,\n",
       "  134.56002807617188,\n",
       "  133.5133819580078,\n",
       "  136.95237731933594,\n",
       "  136.52809143066406,\n",
       "  136.67784118652344,\n",
       "  135.77935791015625,\n",
       "  135.16041564941406,\n",
       "  134.90086364746094,\n",
       "  135.14044189453125,\n",
       "  132.9641571044922,\n",
       "  130.61813354492188,\n",
       "  129.49005126953125,\n",
       "  129.6497802734375,\n",
       "  125.78634643554688,\n",
       "  125.6465835571289,\n",
       "  125.13744354248047,\n",
       "  120.78483581542969,\n",
       "  121.05438232421875,\n",
       "  127.57331085205078,\n",
       "  124.9078369140625,\n",
       "  121.85301971435547,\n",
       "  119.9262924194336,\n",
       "  121.21410369873047,\n",
       "  116.16268920898438,\n",
       "  120.8846664428711,\n",
       "  119.77655792236328,\n",
       "  121.75318908691406,\n",
       "  120.82476806640625,\n",
       "  123.77974700927734,\n",
       "  125.35707092285156,\n",
       "  124.54844665527344,\n",
       "  120.32561492919922,\n",
       "  119.78652954101562,\n",
       "  123.18077087402344,\n",
       "  122.33221435546875,\n",
       "  119.88636016845703,\n",
       "  120.38551330566406,\n",
       "  121.00446319580078,\n",
       "  121.18415832519531,\n",
       "  119.69668579101562,\n",
       "  121.94287109375,\n",
       "  122.79142761230469,\n",
       "  125.68651580810547,\n",
       "  125.99598693847656,\n",
       "  127.68312072753906,\n",
       "  130.13894653320312,\n",
       "  132.77447509765625,\n",
       "  131.0174560546875,\n",
       "  134.20204162597656,\n",
       "  131.80612182617188,\n",
       "  134.2719268798828,\n",
       "  133.93251037597656,\n",
       "  134.61134338378906,\n",
       "  132.88429260253906,\n",
       "  133.27362060546875,\n",
       "  131.71627807617188,\n",
       "  134.0922393798828,\n",
       "  134.49156188964844],\n",
       " array([[ 7.43760316e-02,  8.74472769e-01, -1.44725952e+00,\n",
       "          9.15700420e-01,  1.67184253e+00, -1.69906912e+00,\n",
       "          1.89000403e-01,  9.28354299e-01,  1.50784394e+00,\n",
       "          9.28354299e-01, -2.38124639e+00,  1.74777973e+00,\n",
       "          1.62610985e+00, -2.29104609e+00, -4.41981351e-01,\n",
       "         -2.12119376e-01, -1.24188078e+00, -2.12119376e-01,\n",
       "         -2.71027507e+00,  1.57876473e+00,  7.48147327e-01,\n",
       "         -2.38113277e+00, -1.94013030e+00,  8.14532625e-01,\n",
       "          1.73511326e+00,  8.14532625e-01, -2.63938144e+00,\n",
       "          2.35069662e+00,  7.11987746e-01, -2.40588076e+00,\n",
       "         -1.33288259e+00, -7.63844973e-01, -7.91703845e-01,\n",
       "         -7.63844973e-01, -2.51534796e+00,  1.34666523e+00,\n",
       "         -1.58426521e+00, -2.08894517e+00, -1.61898215e+00],\n",
       "        [ 6.66127245e-01,  1.12035921e+00, -6.52399606e-01,\n",
       "          1.83845670e+00,  1.97872871e+00, -1.11039181e+00,\n",
       "         -6.65655414e-01,  7.90700866e-01, -3.60789279e-02,\n",
       "          7.90700866e-01, -1.40915439e+00,  7.17723324e-01,\n",
       "          1.44230767e+00, -1.48253582e+00,  1.55127723e-01,\n",
       "          9.44875223e-01,  1.54995389e+00,  9.44875223e-01,\n",
       "         -1.83957025e+00,  1.55509671e+00,  1.53903575e+00,\n",
       "         -1.84896009e+00, -2.54830731e-01, -3.18729774e-01,\n",
       "         -1.20956640e+00, -3.18729774e-01, -1.97553781e+00,\n",
       "          1.15049589e+00,  7.07076259e-01, -1.83341189e+00,\n",
       "         -1.92687349e+00,  8.09885304e-01,  1.84980867e+00,\n",
       "          8.09885304e-01, -1.94966063e+00,  2.15828434e+00,\n",
       "          8.15232869e-01, -1.96923379e+00, -1.12161029e+00],\n",
       "        [-7.28154937e-01,  4.94788026e-01, -3.89157021e-02,\n",
       "          1.22103749e-03,  8.77524754e-01, -2.79795352e-01,\n",
       "         -1.93302698e+00,  1.06600773e+00,  5.16204720e-01,\n",
       "          1.06600773e+00, -6.30437125e-01,  1.55427347e+00,\n",
       "          1.73704908e+00, -9.51573419e-01, -7.25499353e-01,\n",
       "          7.85615649e-01, -7.16260055e-02,  7.85615649e-01,\n",
       "         -1.05276267e+00,  5.31531477e-01,  1.35733704e+00,\n",
       "         -1.16571639e+00,  2.75169300e-01,  8.47588127e-01,\n",
       "          1.34406304e+00,  8.47588127e-01, -1.29965456e+00,\n",
       "          1.13102750e+00,  1.48694464e+00, -1.39767901e+00,\n",
       "         -6.48312000e-02, -3.74109111e-01, -1.11679217e+00,\n",
       "         -3.74109111e-01, -1.42344955e+00,  9.84939042e-01,\n",
       "          8.10590708e-01, -1.47464429e+00, -1.69644455e+00],\n",
       "        [ 4.99527064e-01,  6.35810156e-01,  4.58983470e-01,\n",
       "          1.03466269e+00, -2.95297380e-01,  4.72788359e-01,\n",
       "         -3.07113463e-01,  3.65586667e-01, -7.85084120e-01,\n",
       "          3.65586667e-01, -2.94123424e-02, -1.11323165e-01,\n",
       "          6.79424381e-01, -2.02410030e-01, -2.03138377e+00,\n",
       "          1.10413480e+00,  5.08436690e-01,  1.10413480e+00,\n",
       "         -4.22471872e-01,  1.36280987e+00,  1.64870537e+00,\n",
       "         -7.17018670e-01, -5.06484166e-01,  6.87045206e-01,\n",
       "         -1.39160230e-01,  6.87045206e-01, -6.88896405e-01,\n",
       "          2.89082714e-01,  1.30777767e+00, -8.38252028e-01,\n",
       "          5.20751620e-01,  8.44420580e-01,  1.45584735e+00,\n",
       "          8.44420580e-01, -8.87694965e-01,  9.65906270e-01,\n",
       "          1.54769435e+00, -1.09818903e+00,  1.05545537e-01],\n",
       "        [-6.38990442e-01,  7.17105835e-02,  5.99463228e-01,\n",
       "         -4.53244598e-01, -7.89684968e-01,  7.31095164e-01,\n",
       "         -1.89134700e+00,  5.23482160e-01,  3.60716140e-01,\n",
       "          5.23482160e-01,  4.58375096e-01,  8.25571852e-01,\n",
       "         -4.46984260e-01,  4.76389114e-01, -3.56062038e-01,\n",
       "          2.93775347e-01, -8.58305046e-01,  2.93775347e-01,\n",
       "          6.39953061e-02, -2.92290552e-01,  6.03184312e-01,\n",
       "         -8.39269374e-02, -1.66560033e+00,  1.00813105e+00,\n",
       "          3.91410291e-01,  1.00813105e+00, -1.99634159e-01,\n",
       "          9.72859860e-01,  1.59508615e+00, -4.70866848e-01,\n",
       "         -3.42876331e-01,  6.76690740e-01, -3.84175378e-02,\n",
       "          6.76690740e-01, -4.03563315e-01,  1.42800657e-01,\n",
       "          1.37835215e+00, -6.14867178e-01,  6.72242891e-01],\n",
       "        [ 1.67648994e+00,  9.32329703e-01,  7.16825496e-01,\n",
       "          5.44343771e-01, -5.12147517e-01,  7.52715324e-01,\n",
       "         -2.77965469e-02, -1.08112189e-01, -7.01866558e-01,\n",
       "         -1.08112189e-01,  5.96001879e-01, -5.23331513e-01,\n",
       "         -9.21806856e-01,  7.09371086e-01, -1.98843722e+00,\n",
       "          4.76454183e-01,  3.45127265e-01,  4.76454183e-01,\n",
       "          4.58808607e-01,  6.38700368e-01, -5.10333516e-01,\n",
       "          4.89702437e-01, -1.78567883e-01,  1.91241553e-01,\n",
       "         -8.58718155e-01,  1.91241553e-01,  1.77985227e-01,\n",
       "         -3.88561115e-01,  5.64133122e-01,  4.74966508e-02,\n",
       "         -1.62355270e+00,  1.01215042e+00,  4.96102729e-01,\n",
       "          1.01215042e+00, -1.57382176e-02,  8.11277755e-01,\n",
       "          1.64990583e+00, -2.97461524e-01, -1.63532440e-01],\n",
       "        [ 5.03277301e-01,  1.07697204e+00,  1.02623511e+00,\n",
       "          4.41633436e-01, -5.77476097e-01,  1.03382583e+00,\n",
       "          3.34905769e-01,  8.55480408e-01,  1.45918005e+00,\n",
       "          8.55480408e-01,  7.10980660e-01,  3.81059719e-01,\n",
       "         -6.55252726e-01,  7.28871570e-01, -6.82572470e-02,\n",
       "         -2.54275479e-01, -7.70901765e-01, -2.54275479e-01,\n",
       "          5.70203203e-01, -7.01702518e-01, -9.79722161e-01,\n",
       "          6.86587339e-01, -1.62748054e+00,  3.75392453e-01,\n",
       "          2.42034771e-01,  3.75392453e-01,  4.84458434e-01,\n",
       "          3.77235659e-01, -5.33869224e-01,  5.17173498e-01,\n",
       "          1.94295755e-02,  1.58691769e-01, -7.63332093e-01,\n",
       "          1.58691769e-01,  2.83590569e-01, -5.19680363e-01,\n",
       "          6.75485977e-01,  1.50383175e-01, -1.40290607e+00],\n",
       "        [ 8.04689348e-02,  9.57637966e-01,  1.02267868e+00,\n",
       "          9.59803708e-01, -5.90165432e-01,  1.03437391e+00,\n",
       "          2.97386156e-01,  1.01742926e+00,  3.64216250e-01,\n",
       "          1.01742926e+00,  1.01410654e+00,  2.87944834e-01,\n",
       "         -7.17995981e-01,  9.82421530e-01,  3.05466857e-01,\n",
       "          8.60563015e-01,  1.49884227e+00,  8.60563015e-01,\n",
       "          6.63266592e-01,  1.96989448e-01, -7.16218523e-01,\n",
       "          7.03066514e-01,  7.68905498e-02, -3.61225581e-01,\n",
       "         -7.78772306e-01, -3.61225581e-01,  5.70928315e-01,\n",
       "         -7.25327411e-01, -9.96717524e-01,  6.78379120e-01,\n",
       "         -1.58143516e+00,  3.51086432e-01,  3.45615208e-01,\n",
       "          3.51086432e-01,  5.26523684e-01,  2.28981110e-01,\n",
       "         -3.62306492e-01,  5.56164613e-01,  1.87088842e-01],\n",
       "        [-1.98226089e-01,  6.64738623e-01,  1.16048941e+00,\n",
       "          5.15078204e-01, -8.65084676e-01,  1.22870241e+00,\n",
       "          2.47360005e-01,  8.83816816e-01, -3.03923983e-02,\n",
       "          8.83816816e-01,  1.01062233e+00,  7.57706375e-01,\n",
       "         -7.30183145e-01,  9.82915873e-01,  2.66807099e-01,\n",
       "          1.04793143e+00,  3.48803426e-01,  1.04793143e+00,\n",
       "          9.08615528e-01,  1.04461352e-01, -7.78243733e-01,\n",
       "          9.17332703e-01,  4.08611831e-01,  7.62596514e-01,\n",
       "          1.29731238e+00,  7.62596514e-01,  6.43168625e-01,\n",
       "          1.39015058e-02, -7.36885480e-01,  6.91871957e-01,\n",
       "          3.01678746e-01, -4.18507299e-01, -6.82791100e-01,\n",
       "         -4.18507299e-01,  5.95066045e-01, -8.48911250e-01,\n",
       "         -7.99774118e-01,  6.95439627e-01, -1.36214686e+00],\n",
       "        [ 2.12981027e-01,  6.28580803e-01,  1.06980107e+00,\n",
       "          1.06120630e+00, -1.04863758e+00,  1.20330559e+00,\n",
       "          1.35631966e+00,  5.55871931e-01, -2.90499520e-01,\n",
       "          5.55871931e-01,  1.14563430e+00,  3.54528212e-01,\n",
       "         -9.94222681e-01,  1.15819209e+00,  2.15260755e-01,\n",
       "          8.93347118e-01, -6.56534519e-02,  8.93347118e-01,\n",
       "          9.05795425e-01,  5.71262564e-01, -7.90291425e-01,\n",
       "          9.17750455e-01,  3.74297040e-01,  9.51474784e-01,\n",
       "          2.45397274e-01,  9.51474784e-01,  8.33620352e-01,\n",
       "         -6.22084933e-02, -7.98046446e-01,  8.67309046e-01,\n",
       "          6.68188692e-01,  7.55624203e-01,  1.40874866e+00,\n",
       "          7.55624203e-01,  6.52329007e-01, -1.26223157e-01,\n",
       "         -5.54190181e-01,  7.07096881e-01,  4.60235275e-01],\n",
       "        [-9.07591208e-01, -1.01860216e-01,  8.29742563e-01,\n",
       "         -5.64665146e-01, -7.20055756e-01,  9.07062226e-01,\n",
       "          2.05667305e-01,  5.15387811e-01,  9.32816390e-02,\n",
       "          5.15387811e-01,  1.05678772e+00,  8.49635687e-01,\n",
       "         -1.17051163e+00,  1.13528521e+00,  1.35791945e+00,\n",
       "          5.13927866e-01, -3.38843575e-01,  5.13927866e-01,\n",
       "          1.01507360e+00,  1.70625137e-01, -1.05130925e+00,\n",
       "          1.06587024e+00,  3.28543985e-01,  7.95644798e-01,\n",
       "         -1.33697268e-01,  7.95644798e-01,  8.31431252e-01,\n",
       "          3.21763955e-01, -8.09926269e-01,  8.67651093e-01,\n",
       "          6.30275200e-01,  9.52957863e-01,  3.49002742e-01,\n",
       "          9.52957863e-01,  8.03294997e-01, -2.00630136e-01,\n",
       "         -6.11997335e-01,  8.58667296e-01,  8.14925012e-01],\n",
       "        [ 9.11267060e-01,  2.88668556e-01,  6.25248382e-01,\n",
       "         -3.12598509e-01, -1.19812140e+00,  8.67838496e-01,\n",
       "          5.80888881e-01, -3.02450816e-01, -9.52552671e-01,\n",
       "         -3.02450816e-01,  8.21604518e-01, -6.24342881e-01,\n",
       "         -8.54933164e-01,  8.68086043e-01,  1.72301098e-01,\n",
       "          4.67089342e-01,  6.42412057e-02,  4.67089342e-01,\n",
       "          9.43161517e-01,  6.62612559e-01, -1.22558071e+00,\n",
       "          1.04651244e+00,  1.34277936e+00,  4.13168107e-01,\n",
       "         -3.83578233e-01,  4.13168107e-01,  9.16258261e-01,\n",
       "         -7.78474705e-03, -1.06730713e+00,  9.88928765e-01,\n",
       "          5.79723878e-01,  7.90151938e-01, -3.29139070e-02,\n",
       "          7.90151938e-01,  8.01559756e-01,  1.74750629e-01,\n",
       "         -6.23225717e-01,  8.58962811e-01,  7.78234258e-01],\n",
       "        [-2.48523638e+00, -1.40725866e+00,  1.57577526e-01,\n",
       "         -1.91470482e+00,  6.88886642e-01, -5.98967347e-02,\n",
       "         -4.94724251e-01,  1.34804906e-01,  7.44994638e-01,\n",
       "          1.34804906e-01,  6.21263367e-01, -3.95824924e-01,\n",
       "         -1.31407974e+00,  8.32707873e-01,  5.58924898e-01,\n",
       "         -4.79117578e-01, -1.03419702e+00, -4.79117578e-01,\n",
       "          7.52805123e-01, -8.02077336e-01, -9.13613784e-01,\n",
       "          8.20711788e-01,  2.90412561e-01,  3.65952148e-01,\n",
       "         -1.48854965e-02,  3.65952148e-01,  8.60436622e-01,\n",
       "          3.96904893e-01, -1.23915034e+00,  9.73078965e-01,\n",
       "          1.70032534e+00,  3.90553164e-01, -2.84655070e-01,\n",
       "          3.90553164e-01,  8.68799858e-01, -1.47424163e-01,\n",
       "         -8.66492887e-01,  9.63741720e-01,  7.29313251e-01],\n",
       "        [ 4.23627838e-01, -1.31685305e+00, -3.22538805e-01,\n",
       "         -1.53786897e+00,  1.18174944e+00, -6.06183465e-01,\n",
       "         -4.40525013e-01, -1.76404079e+00, -2.42497488e+00,\n",
       "         -1.76404079e+00,  1.63090344e-01, -1.84825856e+00,\n",
       "          4.98251470e-01, -4.07064111e-03, -5.49373938e-01,\n",
       "          2.67699850e-02,  7.48734400e-01,  2.67699850e-02,\n",
       "          5.90649756e-01, -5.74999447e-01, -1.36750581e+00,\n",
       "          7.90814937e-01,  6.33583742e-01, -5.87879504e-01,\n",
       "         -1.01960265e+00, -5.87879504e-01,  7.12672769e-01,\n",
       "         -8.07891816e-01, -9.31530284e-01,  7.88197675e-01,\n",
       "          5.37593490e-01,  3.41223519e-01,  8.67823391e-02,\n",
       "          3.41223519e-01,  8.24551537e-01,  2.48210230e-01,\n",
       "         -1.02891293e+00,  9.50048147e-01,  1.81377451e+00],\n",
       "        [ 1.26860467e+00, -7.23822249e-01, -5.18142585e-01,\n",
       "         -8.96442903e-01,  1.21816891e+00, -7.82524745e-01,\n",
       "          9.43591197e-01, -1.66281811e+00,  2.89879106e-01,\n",
       "         -1.66281811e+00, -3.07275401e-01, -1.50662763e+00,\n",
       "          9.71609623e-01, -4.96798505e-01, -4.93527695e-01,\n",
       "         -2.17011932e+00, -2.58067987e+00, -2.17011932e+00,\n",
       "          2.19806250e-01, -2.01828018e+00,  4.24084775e-01,\n",
       "          8.36827312e-02, -3.50153473e-01, -7.79153936e-02,\n",
       "          6.11205294e-01, -7.79153936e-02,  5.86799919e-01,\n",
       "         -6.21106412e-01, -1.37909789e+00,  7.63718700e-01,\n",
       "          9.16754123e-01, -6.55307690e-01, -9.25414267e-01,\n",
       "         -6.55307690e-01,  7.07423083e-01, -9.29628212e-01,\n",
       "         -7.38161475e-01,  7.90318332e-01,  6.88541599e-01],\n",
       "        [ 6.86296356e-01, -4.73890025e-01, -8.63900652e-01,\n",
       "          9.95184419e-02,  4.46226623e-01, -8.59070753e-01,\n",
       "          2.21513584e+00, -9.98830896e-01,  1.07849918e+00,\n",
       "         -9.98830896e-01, -4.98906703e-01, -9.25125152e-01,\n",
       "          1.00658782e+00, -6.55850991e-01,  9.32649002e-01,\n",
       "         -2.05300869e+00,  2.70727233e-01, -2.05300869e+00,\n",
       "         -1.60905999e-01, -1.67880213e+00,  8.92025736e-01,\n",
       "         -3.32704323e-01, -3.00583785e-01, -2.29250769e+00,\n",
       "         -2.43413633e+00, -2.29250769e+00,  2.98933228e-01,\n",
       "         -1.80829278e+00,  3.87529114e-01,  1.84732267e-01,\n",
       "         -1.70150741e-01, -1.22514351e-01,  7.17533960e-01,\n",
       "         -1.22514351e-01,  6.07647042e-01, -7.47022277e-01,\n",
       "         -1.16118634e+00,  7.69169506e-01,  1.05547403e+00],\n",
       "        [-1.73887739e+00, -1.69094997e+00, -1.54447094e+00,\n",
       "         -1.55171533e+00, -2.67788723e-01, -1.23621710e+00,\n",
       "          4.72490406e-01, -7.18994164e-01,  5.35028628e-01,\n",
       "         -7.18994164e-01, -8.37642840e-01, -2.22089438e-02,\n",
       "          2.65194527e-01, -7.24892300e-01,  2.24283332e+00,\n",
       "         -1.28480177e+00,  1.09901372e+00, -1.28480177e+00,\n",
       "         -3.16011648e-01, -1.10096415e+00,  9.26603632e-01,\n",
       "         -4.67114007e-01,  9.65305022e-01, -2.17445336e+00,\n",
       "          1.73982707e-01, -2.17445336e+00,  3.40594099e-03,\n",
       "         -1.52905139e+00,  8.48949901e-01, -1.56197552e-01,\n",
       "         -1.15382523e-01, -2.43624585e+00, -2.35047821e+00,\n",
       "         -2.43624585e+00,  3.79462815e-01, -1.90764442e+00,\n",
       "          5.08566197e-01,  2.68949091e-01,  3.62262623e-03],\n",
       "        [-3.05967020e-01, -2.03143426e+00, -2.27941713e+00,\n",
       "         -1.80384436e-01, -1.19866809e+00, -1.59855822e+00,\n",
       "         -1.08255697e+00, -2.08167590e+00, -1.72839521e+00,\n",
       "         -2.08167590e+00, -1.50439156e+00, -1.51918043e+00,\n",
       "         -4.20564235e-01, -1.06506259e+00,  4.47232413e-01,\n",
       "         -9.61041745e-01,  5.28207412e-01, -9.61041745e-01,\n",
       "         -5.90183391e-01, -2.03737908e-01,  1.93694975e-01,\n",
       "         -5.25458398e-01,  2.12823782e+00, -1.40005606e+00,\n",
       "          9.31598046e-01, -1.40005606e+00, -1.16994576e-01,\n",
       "         -1.05374443e+00,  8.83045998e-01, -2.66249651e-01,\n",
       "          1.28326407e+00, -2.31290666e+00,  2.77056541e-01,\n",
       "         -2.31290666e+00,  1.45206239e-01, -1.63465128e+00,\n",
       "          9.44684590e-01, -2.56002216e-02,  5.66245304e-02]]),\n",
       " [134.162109375,\n",
       "  133.35348510742188,\n",
       "  133.253662109375,\n",
       "  131.23709106445312,\n",
       "  132.31524658203125,\n",
       "  127.6332015991211,\n",
       "  127.8827896118164,\n",
       "  129.52000427246094,\n",
       "  130.2100067138672,\n",
       "  126.8499984741211,\n",
       "  125.91000366210938,\n",
       "  122.7699966430664,\n",
       "  124.97000122070312,\n",
       "  127.44999694824219,\n",
       "  126.2699966430664,\n",
       "  124.8499984741211,\n",
       "  124.69000244140625,\n",
       "  127.30999755859375],\n",
       " 12   2021-01-14\n",
       " 13   2021-01-15\n",
       " 14   2021-01-19\n",
       " 15   2021-01-20\n",
       " 16   2021-01-21\n",
       "         ...    \n",
       " 77   2021-04-20\n",
       " 78   2021-04-21\n",
       " 79   2021-04-22\n",
       " 80   2021-04-23\n",
       " 81   2021-04-26\n",
       " Name: Date, Length: 70, dtype: datetime64[ns],\n",
       " 82   2021-04-27\n",
       " 83   2021-04-28\n",
       " 84   2021-04-29\n",
       " 85   2021-04-30\n",
       " 86   2021-05-03\n",
       " 87   2021-05-04\n",
       " 88   2021-05-05\n",
       " 89   2021-05-06\n",
       " 90   2021-05-07\n",
       " 91   2021-05-10\n",
       " 92   2021-05-11\n",
       " 93   2021-05-12\n",
       " 94   2021-05-13\n",
       " 95   2021-05-14\n",
       " 96   2021-05-17\n",
       " 97   2021-05-18\n",
       " 98   2021-05-19\n",
       " 99   2021-05-20\n",
       " Name: Date, dtype: datetime64[ns],\n",
       " array([[-7.74711221e-01,  1.80756624e+00,  1.75468613e+00,\n",
       "          1.92196252e+00,  1.93273034e+00,  8.27478610e-01,\n",
       "          8.09552666e-01,  1.73101002e+00,  1.53011648e+00,\n",
       "          1.73101002e+00,  1.71965213e+00,  1.58092000e+00,\n",
       "          2.01861208e+00,  2.98778808e-01, -1.51001844e-01,\n",
       "          1.13224218e+00,  1.90361146e+00,  1.13224218e+00,\n",
       "          1.45564110e+00,  1.02404720e+00,  1.67170365e+00,\n",
       "         -4.87206598e-01,  8.08708959e-02, -8.87438396e-03,\n",
       "          5.54937536e-01, -8.87438396e-03,  1.51454885e+00,\n",
       "         -5.49916252e-01,  1.71690673e+00, -1.89437695e+00,\n",
       "         -5.14985956e-02, -5.68889320e-01,  1.14036896e+00,\n",
       "         -5.68889320e-01,  1.75861663e+00, -1.54828753e+00,\n",
       "          1.75775902e+00, -1.67934331e+00, -1.10009841e+00,\n",
       "         -1.54070746e+00, -1.42761677e-01, -1.54070746e+00,\n",
       "          7.60352000e-01, -1.56043432e+00,  1.58280202e+00,\n",
       "         -2.22358712e+00, -2.18199870e+00, -1.29123103e+00,\n",
       "         -5.92909064e-01, -1.29123103e+00,  4.26149064e-01,\n",
       "         -1.19669598e+00,  1.25072823e+00, -1.59379475e+00,\n",
       "         -3.39688071e-01],\n",
       "        [-1.41441853e+00,  7.03295547e-01,  7.57320481e-01,\n",
       "          6.45676234e-01, -5.59254602e-01,  1.00872285e+00,\n",
       "         -4.62043137e-01,  1.02152529e+00, -8.11552340e-01,\n",
       "          1.02152529e+00,  1.12039787e+00,  1.17634731e+00,\n",
       "          8.67944757e-01,  7.56376338e-01,  1.60624431e+00,\n",
       "          1.35644942e+00,  7.65310653e-01,  1.35644942e+00,\n",
       "          1.16956106e+00,  1.22533141e+00,  1.18740538e+00,\n",
       "          4.00583267e-02, -5.12062578e-03,  1.10234713e+00,\n",
       "          1.74193632e+00,  1.10234713e+00,  8.90049534e-01,\n",
       "          1.04487367e+00,  8.70076500e-01, -5.54489914e-01,\n",
       "         -1.25221585e-01, -2.85100194e-01,  1.84324134e-01,\n",
       "         -2.85100194e-01,  7.78333135e-01, -6.32718060e-01,\n",
       "          8.88216687e-01, -1.17451426e+00, -2.24341504e-01,\n",
       "         -4.27553289e-01,  1.13265622e+00, -4.27553289e-01,\n",
       "          1.64273507e+00, -1.05527268e+00,  1.11584464e+00,\n",
       "         -3.15786708e-01, -1.13694011e-01, -1.32469228e+00,\n",
       "         -3.96546327e-01, -1.32469228e+00,  5.72856449e-01,\n",
       "         -1.19042372e+00,  1.21585066e+00, -1.43674229e+00,\n",
       "         -2.08407392e+00],\n",
       "        [ 1.24937214e+00,  6.21247704e-01,  2.32867327e-01,\n",
       "          4.64401028e-01, -1.27226766e+00,  8.24689419e-01,\n",
       "         -4.73825504e-02,  1.19310757e-01, -1.31944915e+00,\n",
       "          1.19310757e-01,  1.75748607e-01,  1.93217764e-01,\n",
       "         -5.99911740e-01,  1.04312073e+00, -2.17067670e-01,\n",
       "          6.44591762e-01, -7.73371359e-01,  6.44591762e-01,\n",
       "          6.09936709e-01,  8.31610949e-01,  3.45867790e-01,\n",
       "          7.78265255e-01,  1.90110496e+00,  1.37842796e+00,\n",
       "          6.31425441e-01,  1.37842796e+00,  6.27488474e-01,\n",
       "          1.29247998e+00,  5.14225962e-01,  8.09608836e-03,\n",
       "         -2.23518905e-01,  1.18878453e+00,  1.34069500e+00,\n",
       "          1.18878453e+00,  2.60888846e-01,  1.07528135e+00,\n",
       "          2.43988225e-01, -1.83523869e-01, -3.14933869e-01,\n",
       "         -1.74750640e-01,  1.75040722e-01, -1.74750640e-01,\n",
       "          5.04793736e-01, -3.25951744e-01,  3.40006382e-01,\n",
       "         -9.14269281e-02,  2.88859565e-01, -3.09661251e-01,\n",
       "          1.18996272e+00, -3.09661251e-01,  1.73197689e+00,\n",
       "         -7.48568383e-01,  7.21074938e-01,  1.36487310e-01,\n",
       "         -3.21346296e-02],\n",
       "        [-1.07753115e+00, -3.39439267e-01, -2.22739583e-02,\n",
       "         -7.87980575e-01, -8.52064838e-01,  3.76462130e-01,\n",
       "         -1.23605186e+00,  5.22757837e-02,  7.95472405e-01,\n",
       "          5.22757837e-02, -3.20984244e-01,  5.35805903e-02,\n",
       "         -1.01989857e+00,  7.51963592e-01,  3.77504609e-01,\n",
       "         -2.60640311e-01, -1.10710415e+00, -2.60640311e-01,\n",
       "         -2.72240946e-01, -1.25147190e-01, -7.27645283e-01,\n",
       "          1.24084794e+00, -7.67875171e-02,  5.01871727e-01,\n",
       "         -8.69691929e-01,  5.01871727e-01,  1.13871507e-01,\n",
       "          8.08151537e-01, -1.04115289e-01,  7.95754939e-01,\n",
       "          1.95549667e+00,  1.55496833e+00,  2.58838436e-01,\n",
       "          1.55496833e+00,  4.33374117e-02,  1.34046451e+00,\n",
       "         -2.67260650e-02,  2.32568911e-01, -4.35723688e-01,\n",
       "          1.13820299e+00,  1.33331137e+00,  1.13820299e+00,\n",
       "         -9.58705096e-02,  1.03460010e+00, -2.34798401e-01,\n",
       "          3.48996189e-01,  2.47217552e-01, -7.91428394e-02,\n",
       "         -1.22775352e-03, -7.91428394e-02,  2.37148729e-01,\n",
       "         -1.10645163e-01, -1.00982831e-01,  3.21501133e-01,\n",
       "          3.67233754e-01],\n",
       "        [ 4.39963602e-01, -7.22343113e-01, -3.65038094e-01,\n",
       "         -1.18156801e+00, -2.36822720e-01, -2.49421218e-01,\n",
       "         -1.17615582e+00, -7.32627548e-01, -1.05197679e+00,\n",
       "         -7.32627548e-01, -5.62639875e-01, -9.11135059e-01,\n",
       "         -7.72386060e-01,  4.28284377e-02, -1.32690098e+00,\n",
       "         -3.27899489e-01,  2.82584996e-01, -3.27899489e-01,\n",
       "         -7.36123829e-01, -2.61038745e-01, -1.03480157e+00,\n",
       "          7.71146512e-01,  5.68192635e-01, -6.12798893e-01,\n",
       "         -1.19527713e+00, -6.12798893e-01, -6.95781279e-01,\n",
       "         -3.68788005e-01, -8.92906458e-01,  1.28932569e+00,\n",
       "         -3.05441670e-01,  3.92335295e-01, -1.20354587e+00,\n",
       "          3.92335295e-01, -3.82232578e-01,  8.21755003e-01,\n",
       "         -4.97130897e-01,  8.15127240e-01,  2.24189661e+00,\n",
       "          1.46440377e+00,  2.49677442e-01,  1.46440377e+00,\n",
       "         -3.48410484e-01,  1.24583871e+00, -4.76339837e-01,\n",
       "          5.33919152e-01,  1.91694869e-01,  1.11807557e+00,\n",
       "          1.43956031e+00,  1.11807557e+00, -5.51898827e-01,\n",
       "          1.07940379e+00, -7.10030825e-01,  6.84687283e-01,\n",
       "          3.25921233e-01],\n",
       "        [ 1.13485134e+00, -8.45420095e-01, -7.42594580e-01,\n",
       "         -7.45761144e-01,  3.15980459e-01, -8.80434872e-01,\n",
       "          3.53442894e-01, -1.04546879e+00,  1.52840990e-01,\n",
       "         -1.04546879e+00, -8.87286994e-01, -1.21431738e+00,\n",
       "         -4.09989351e-01, -9.47374290e-01, -1.24101742e+00,\n",
       "         -1.11542800e+00, -9.31351329e-01, -1.11542800e+00,\n",
       "         -9.61798275e-01, -1.19987692e+00, -8.53783933e-01,\n",
       "         -3.72846737e-01, -1.28071256e+00, -6.95619456e-01,\n",
       "          1.60484816e-01, -6.95619456e-01, -1.12152780e+00,\n",
       "         -5.35952660e-01, -1.11859739e+00,  7.88159317e-01,\n",
       "          4.31838224e-01, -1.08612420e+00, -1.52073006e+00,\n",
       "         -1.08612420e+00, -1.05309034e+00, -4.38732046e-01,\n",
       "         -1.09720598e+00,  1.18017583e+00, -5.36392111e-01,\n",
       "          4.28716758e-01, -1.21510940e+00,  4.28716758e-01,\n",
       "         -8.42424394e-01,  8.32647018e-01, -8.96052661e-01,\n",
       "          7.92823938e-01,  1.42249946e+00,  1.41552216e+00,\n",
       "          9.16138412e-02,  1.41552216e+00, -8.83641646e-01,\n",
       "          1.26417021e+00, -9.65961764e-01,  8.37180321e-01,\n",
       "          2.70837871e-01],\n",
       "        [ 4.42473814e-01, -1.22490702e+00, -1.61496731e+00,\n",
       "         -3.16730057e-01,  6.71699028e-01, -1.90749692e+00,\n",
       "          1.75863780e+00, -1.14602551e+00,  7.04548400e-01,\n",
       "         -1.14602551e+00, -1.24488749e+00, -8.78613226e-01,\n",
       "         -8.43711161e-02, -1.94569361e+00,  9.52238996e-01,\n",
       "         -1.42931557e+00, -1.39680267e-01, -1.42931557e+00,\n",
       "         -1.26497581e+00, -1.49492670e+00, -5.88746032e-01,\n",
       "         -1.97026470e+00, -1.18754779e+00, -1.66535409e+00,\n",
       "         -1.02381505e+00, -1.66535409e+00, -1.32864928e+00,\n",
       "         -1.69084827e+00, -9.85590056e-01, -4.32469173e-01,\n",
       "         -1.68165414e+00, -1.19597445e+00, -1.99950594e-01,\n",
       "         -1.19597445e+00, -1.40585311e+00, -6.17763233e-01,\n",
       "         -1.26890099e+00,  8.09509462e-01,  3.69592974e-01,\n",
       "         -8.88312123e-01, -1.53281468e+00, -8.88312123e-01,\n",
       "         -1.62117542e+00, -1.71427084e-01, -1.43146214e+00,\n",
       "          9.55061473e-01,  1.45421259e-01,  4.71129664e-01,\n",
       "         -1.73045372e+00,  4.71129664e-01, -1.53259066e+00,\n",
       "          9.02759251e-01, -1.41067841e+00,  1.05068099e+00,\n",
       "          1.49190376e+00]]))"
      ]
     },
     "execution_count": 493,
     "metadata": {},
     "output_type": "execute_result"
    }
   ],
   "source": [
    "price_reg.create_train_test_data(st_data, start_pred='2021-05-25', end_pred='2021-05-30')"
   ]
  },
  {
   "cell_type": "code",
   "execution_count": 494,
   "metadata": {},
   "outputs": [],
   "source": [
    "price_reg.fit()"
   ]
  },
  {
   "cell_type": "code",
   "execution_count": 495,
   "metadata": {},
   "outputs": [
    {
     "data": {
      "text/plain": [
       "array([124.325805  , 127.4687493 , 130.52191896, 129.40763311,\n",
       "       128.16435404, 128.28407204, 132.62857152])"
      ]
     },
     "execution_count": 495,
     "metadata": {},
     "output_type": "execute_result"
    }
   ],
   "source": [
    "Y_predict, Y_future_predict = price_reg.predict()\n",
    "Y_future_predict"
   ]
  },
  {
   "cell_type": "code",
   "execution_count": 496,
   "metadata": {},
   "outputs": [
    {
     "name": "stdout",
     "output_type": "stream",
     "text": [
      "MAE 2.192954571227288 \n",
      " MAPE 0.017187647885409767 \n",
      " r2 0.3174684773707147 \n",
      " CORRCOEF 0.6341665750922385 \n",
      "\n"
     ]
    },
    {
     "data": {
      "image/png": "[encoded data removed]",
      "text/plain": [
       "<Figure size 864x576 with 1 Axes>"
      ]
     },
     "metadata": {
      "needs_background": "light"
     },
     "output_type": "display_data"
    }
   ],
   "source": [
    "price_reg.evaluate_model_performance()"
   ]
  },
  {
   "cell_type": "code",
   "execution_count": null,
   "metadata": {},
   "outputs": [],
   "source": []
  },
  {
   "cell_type": "code",
   "execution_count": null,
   "metadata": {},
   "outputs": [],
   "source": []
  }
 ],
 "metadata": {
  "kernelspec": {
   "display_name": "Python 3",
   "language": "python",
   "name": "python3"
  },
  "language_info": {
   "codemirror_mode": {
    "name": "ipython",
    "version": 3
   },
   "file_extension": ".py",
   "mimetype": "text/x-python",
   "name": "python",
   "nbconvert_exporter": "python",
   "pygments_lexer": "ipython3",
   "version": "3.8.5"
  }
 },
 "nbformat": 4,
 "nbformat_minor": 2
}
